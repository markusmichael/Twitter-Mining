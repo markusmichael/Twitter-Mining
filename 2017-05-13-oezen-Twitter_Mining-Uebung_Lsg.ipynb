{
 "cells": [
  {
   "cell_type": "markdown",
   "metadata": {},
   "source": [
    "# Lösungen zu Twitter Mining"
   ]
  },
  {
   "cell_type": "markdown",
   "metadata": {},
   "source": [
    "### Aufgabe 1"
   ]
  },
  {
   "cell_type": "code",
   "execution_count": 1,
   "metadata": {
    "collapsed": true
   },
   "outputs": [],
   "source": [
    " import twitter"
   ]
  },
  {
   "cell_type": "code",
   "execution_count": 2,
   "metadata": {
    "collapsed": false
   },
   "outputs": [
    {
     "name": "stdout",
     "output_type": "stream",
     "text": [
      "<twitter.api.Twitter object at 0x000001271C72ACC0>\n"
     ]
    }
   ],
   "source": [
    "CONSUMER_KEY = ''\n",
    "CONSUMER_SECRET = ''\n",
    "OAUTH_TOKEN = ''\n",
    "OAUTH_TOKEN_SECRET = ''\n",
    "\n",
    "auth = twitter.oauth.OAuth(OAUTH_TOKEN, OAUTH_TOKEN_SECRET,\n",
    "                           CONSUMER_KEY, CONSUMER_SECRET)\n",
    "\n",
    "twitter_api = twitter.Twitter(auth=auth)\n",
    "\n",
    "print (twitter_api)"
   ]
  },
  {
   "cell_type": "code",
   "execution_count": 5,
   "metadata": {
    "collapsed": false
   },
   "outputs": [
    {
     "name": "stdout",
     "output_type": "stream",
     "text": [
      "{'#VivaTech'}\n"
     ]
    }
   ],
   "source": [
    "WORLD_WOE_ID = 1\n",
    "DE_WOE_ID = 23424829\n",
    "\n",
    "world_trends = twitter_api.trends.place(_id=WORLD_WOE_ID)\n",
    "de_trends = twitter_api.trends.place(_id=DE_WOE_ID)\n",
    "\n",
    "world_trends_set = set(trend['name']\n",
    "                       for trend in world_trends[0]['trends'])\n",
    "\n",
    "de_trends_set = set(trend['name']\n",
    "                       for trend in de_trends[0]['trends'])\n",
    "\n",
    "common_trends = world_trends_set.intersection(de_trends_set)\n",
    "\n",
    "print(common_trends)"
   ]
  },
  {
   "cell_type": "markdown",
   "metadata": {},
   "source": [
    "### Aufgabe 2"
   ]
  },
  {
   "cell_type": "code",
   "execution_count": 44,
   "metadata": {
    "collapsed": false
   },
   "outputs": [
    {
     "name": "stdout",
     "output_type": "stream",
     "text": [
      "Length of statuses 100\n",
      "Length of statuses 200\n",
      "Length of statuses 200\n"
     ]
    }
   ],
   "source": [
    "query = 'Angela Merkel'\n",
    "count = 100\n",
    "\n",
    "search_results = twitter_api.search.tweets(q=query, count=count)\n",
    "statuses = search_results['statuses']\n",
    "\n",
    "for _ in range(5):\n",
    "    print (\"Length of statuses\", len(statuses))\n",
    "    try:\n",
    "        next_results = search_results['search_metadata']['next_results']\n",
    "    except KeyError as e:\n",
    "        break\n",
    "        \n",
    "    kwargs = dict([ kv.split('=') for kv in next_results[1:].split(\"&\") ])\n",
    "    search_results = twitter_api.search.tweets(**kwargs)\n",
    "    statuses += search_results['statuses']"
   ]
  },
  {
   "cell_type": "code",
   "execution_count": 45,
   "metadata": {
    "collapsed": false
   },
   "outputs": [
    {
     "name": "stdout",
     "output_type": "stream",
     "text": [
      "RT @ThomasPLaur: SAP CFO Luka Mucic explains the possibilities offered by digitization in #healthcare to Ms. Angela Merkel at #itgipfel. @S…\n",
      "\n",
      "RT @OnlineMagazin: 🆘‼️😂🎶 #France: French music band sings over Angela... \"Merkel must go\"! Haha! https://t.co/2G3W5w0dTn\n",
      "\n",
      "Angela Merkel calls for Muslim countries to do more in the fight against terror https://t.co/5LsbwZI8bP\n",
      "Saudi own her I guess.💩bag\n",
      "\n",
      "RT @ThomasPLaur: Roche’s Lars Kalfhaus shows Ms. Angela Merkel @Roche &amp; @SAPHealth diabetes prevention program at #itgipfel https://t.co/0H…\n",
      "\n",
      "@BonkeSpiegel @Funny1963 #Bundeskanzlerin Dr. Angela #Merkel\n",
      "\n",
      "Macht und Politik kann sie gut.\n",
      "Nur die Politik, die… https://t.co/nfbgEI910I\n",
      "\n"
     ]
    }
   ],
   "source": [
    "for i in range(5):\n",
    "    print(statuses[i]['text'])\n",
    "    print()"
   ]
  },
  {
   "cell_type": "code",
   "execution_count": 46,
   "metadata": {
    "collapsed": true
   },
   "outputs": [],
   "source": [
    "t = statuses[0]"
   ]
  },
  {
   "cell_type": "code",
   "execution_count": 47,
   "metadata": {
    "collapsed": false
   },
   "outputs": [
    {
     "data": {
      "text/plain": [
       "'ThomasPLaur'"
      ]
     },
     "execution_count": 47,
     "metadata": {},
     "output_type": "execute_result"
    }
   ],
   "source": [
    "t['retweeted_status']['user']['screen_name']"
   ]
  },
  {
   "cell_type": "code",
   "execution_count": 48,
   "metadata": {
    "collapsed": false
   },
   "outputs": [
    {
     "data": {
      "text/plain": [
       "875312105393721345"
      ]
     },
     "execution_count": 48,
     "metadata": {},
     "output_type": "execute_result"
    }
   ],
   "source": [
    "t['retweeted_status']['id']"
   ]
  },
  {
   "cell_type": "code",
   "execution_count": 49,
   "metadata": {
    "collapsed": false
   },
   "outputs": [
    {
     "name": "stdout",
     "output_type": "stream",
     "text": [
      "['SAPHealth', 'bsubbareddy_SAP', 'AndreaKaufmann']\n"
     ]
    }
   ],
   "source": [
    "_retweets = twitter_api.statuses.retweets(id=875312105393721345)\n",
    "print ([r['user']['screen_name'] for r in _retweets])"
   ]
  }
 ],
 "metadata": {
  "kernelspec": {
   "display_name": "Python 3",
   "language": "python",
   "name": "python3"
  },
  "language_info": {
   "codemirror_mode": {
    "name": "ipython",
    "version": 3
   },
   "file_extension": ".py",
   "mimetype": "text/x-python",
   "name": "python",
   "nbconvert_exporter": "python",
   "pygments_lexer": "ipython3",
   "version": "3.6.0"
  }
 },
 "nbformat": 4,
 "nbformat_minor": 2
}
