{
 "cells": [
  {
   "cell_type": "markdown",
   "metadata": {
    "collapsed": true
   },
   "source": [
    "<h1><center>Twitter Mining</center></h1>"
   ]
  },
  {
   "cell_type": "markdown",
   "metadata": {},
   "source": [
    "## Theoretischer Hintergrund"
   ]
  },
  {
   "cell_type": "markdown",
   "metadata": {},
   "source": [
    "Social Media Mining ist der Prozess Rohdaten aus Social Media Plattformen zu extrahieren, sie bezüglich Muster zu analysieren und die Erkenntnisse daraus zu präsentieren. Im Social Media Mining werden Konzepte und Methoden aus der Informatik, dem Data Mining, Machine Learning und der Statistik angewendet. Social Media Mining bringt aber auch neue Konzepte und Algorithmen mit sich mit denen es möglich ist massive Rohdaten aus den Social Media Anwendungen zu untersuchen. Dadurch kann herausgefunden werden, wie Individuen (social atoms) interagieren und wie sich Communities (social molecules) bilden. Social Media Mining basiert daher auf Konzepten und Methodologien aus Soziale Netzwerkanalyse (social network analysis), Network Science, Soziologie, Ethnography, Optimierung und Mathematik. Die wichtigsten unter ihnen sind die Netzwerk- und Graphentheorie. In diesen Theorien kann jedes Individuum durch einen Knoten (node) repräsentiert werden und die Beziehungen der Individuen untereinander durch eine Kante (edge). Im Social Media Mining wird das Interessengraph (interest graph) genannt. Mit Hilfe von Interessengraphen können Korrelationen zwischen Objekten gemessen werden, um beispielsweise Empfehlungen zu machen. Empfehlungen darüber wem man auf Twitter folgen sollte, was man online kaufen sollte oder wen man kennenlernen sollte."
   ]
  },
  {
   "cell_type": "markdown",
   "metadata": {},
   "source": [
    "## Praktischer Hintergrund"
   ]
  },
  {
   "cell_type": "markdown",
   "metadata": {},
   "source": [
    "### Twitter Terminologie\n",
    "\n",
    "<b>Tweets</b> sind Status-Aktualisierungen, die maximal 140 Zeichen umfassen. Jedoch werden zusätzlich zum Textinhalt weitere wichtige Informationen mitgesendet.<br> \n",
    "<b>Entities</b> sind Teil eines jeden Tweets und stellen wichtige Metadaten zur Verfügung. Entities beinhalten Informationen über URL's, Medien, Hashtags und Nutzererwähnungen.<br> \n",
    "<b>Places</b> ist ein weiteres Objekt, das Metadaten liefert. Places sind Orte mit dem Ortsnamen und den dazugehörigen Koordinaten. Places kann der Ort sein an dem das Tweet gesendet wurde oder nur der Ort, der im Tweet genannt wird.<br> "
   ]
  },
  {
   "cell_type": "markdown",
   "metadata": {},
   "source": [
    "### Twitter API\n",
    "\n",
    "Twitter hat eine sehr elegante und einfach zu nutzende API. Jedoch werden wir ein Python-Package namens <b>twitter</b> benutzen, das für uns die Arbeit als Analysten stark vereinfacht. Zur Installation des Paketes können wir einfach <b>pip install twitter</b> im Terminal eingeben. Bevor wir jedoch Anfragen an die Twitter API stellen können müssen wir eine Twitter Applikation erstellen."
   ]
  },
  {
   "cell_type": "markdown",
   "metadata": {},
   "source": [
    "### Twitter App erstellen\n",
    "\n",
    "Auf der Seite https://dev.twitter.com/apps können wir eine Twitter Applikation erstellen. Dazu benötigen wir selbstverständlich ein Twitter Account. Die Applikation ist der einzige Weg für Entwickler Zugang zur Twitter API zu erhalten. Ebenso hat Twitter dadurch die Möglichkeit andere Plattformentwickler zu überwachen und gegebenefalls mit ihnen zu interagieren.\n",
    "\n",
    "Mit der Erstellung der App also authorisieren wir ihn den Zugang zu unseren Accountdaten. Zugangsstufen können nach der Erstellung angepasst werden. Als Standardwert eingestellt ist <b>read and write</b>, jedoch reicht für uns die Stufe <b>read-only</b>. Deshalb kann sie nach eigenen Wünschen eingstellt werden. Diese Vorgehensweise der Authorisierung ist durch das Protokoll <b>OAuth</b> (Open Authorization) standardisiert und wird von den meisten Social Media Plattformen benutzt. Dadurch können die Benutzer den Anwendungen von Drittanbietern Zugang zu ihren Accountdaten erlauben ohne ihre Zugangsdaten preiszugeben."
   ]
  },
  {
   "cell_type": "markdown",
   "metadata": {},
   "source": [
    "<img src=\"create_twitter_app.png\" height=\"640\" width=\"640\">"
   ]
  },
  {
   "cell_type": "markdown",
   "metadata": {},
   "source": [
    "Nach der Erstellung der App sind die einzigen Informationen, die wir benötigen ,um unsere App zu authorisieren Anfragen an die Twitter API zu stellen <b>consumer key</b>, <b>consumer secret</b>, <b>access token</b> und <b>access token secret.</b> An diese sensiblen Informationen gelangen wir über das Register <b>Keys and Access Tokens</b>.   "
   ]
  },
  {
   "cell_type": "markdown",
   "metadata": {},
   "source": [
    "<img src=\"ds_app_details.png\" width=\"640\" height=\"640\">"
   ]
  },
  {
   "cell_type": "markdown",
   "metadata": {
    "collapsed": true
   },
   "source": [
    "### Analysieren der Trends\n",
    "\n",
    "Nach dem wir unsere keys und secrets erzeugt haben können wir nun eine authorisierte Verbindung zur Twitter API aufbauen."
   ]
  },
  {
   "cell_type": "code",
   "execution_count": 1,
   "metadata": {
    "collapsed": false
   },
   "outputs": [],
   "source": [
    " import twitter"
   ]
  },
  {
   "cell_type": "code",
   "execution_count": null,
   "metadata": {
    "collapsed": true
   },
   "outputs": [],
   "source": [
    "# Inline Hilfe für das Twitter-Package\n",
    "twitter?\n",
    "# Inline Hilfe für die Twitter-Klasse\n",
    "twitter.Twitter?"
   ]
  },
  {
   "cell_type": "code",
   "execution_count": 2,
   "metadata": {
    "collapsed": false
   },
   "outputs": [
    {
     "name": "stdout",
     "output_type": "stream",
     "text": [
      "<twitter.api.Twitter object at 0x000001F7D0AC9C88>\n"
     ]
    }
   ],
   "source": [
    "# Nach dem du die Twitter-App erzeugt hast, setze die keys und secrets in die entsprechenden Variablen ein\n",
    "CONSUMER_KEY = ''\n",
    "CONSUMER_SECRET = ''\n",
    "OAUTH_TOKEN = ''\n",
    "OAUTH_TOKEN_SECRET = ''\n",
    "\n",
    "auth = twitter.oauth.OAuth(OAUTH_TOKEN, OAUTH_TOKEN_SECRET,\n",
    "                           CONSUMER_KEY, CONSUMER_SECRET)\n",
    "\n",
    "twitter_api = twitter.Twitter(auth=auth)\n",
    "\n",
    "print (twitter_api)"
   ]
  },
  {
   "cell_type": "markdown",
   "metadata": {},
   "source": [
    "Nun können wir die 50 wichtigsten Themen in verschiedenen Ländern oder weltweit herausfinden. Wir benötigen jedoch eine WOEID den wir als Parameter an unsere Methode übergeben. Das Where On Earth (WOE) ID System ist eine API von Yahoo und ordnet allen Orten auf der Welt, die benannt sind eine einzigartige ID zu. Mit dieser ID können wir die Lokalisation in den Anfragen eingrenzen. Die ID für die wichtigsten globalen Themen ist 1. Für detailliertere Informationen zur WOEID besuche http://developer.yahoo.com/geo/geoplanet/ und für die Anfragemethode https://dev.twitter.com/docs/api/1.1/get/trends/place."
   ]
  },
  {
   "cell_type": "code",
   "execution_count": 3,
   "metadata": {
    "collapsed": false
   },
   "outputs": [
    {
     "name": "stdout",
     "output_type": "stream",
     "text": [
      "[{'trends': [{'name': '#INDvBAN', 'url': 'http://twitter.com/search?q=%23INDvBAN', 'promoted_content': None, 'query': '%23INDvBAN', 'tweet_volume': 163050}, {'name': '#Donnarumma', 'url': 'http://twitter.com/search?q=%23Donnarumma', 'promoted_content': None, 'query': '%23Donnarumma', 'tweet_volume': 10097}, {'name': 'アイコン', 'url': 'http://twitter.com/search?q=%E3%82%A2%E3%82%A4%E3%82%B3%E3%83%B3', 'promoted_content': None, 'query': '%E3%82%A2%E3%82%A4%E3%82%B3%E3%83%B3', 'tweet_volume': 71769}, {'name': '#FelizJueves', 'url': 'http://twitter.com/search?q=%23FelizJueves', 'promoted_content': None, 'query': '%23FelizJueves', 'tweet_volume': 38859}, {'name': '#15Jun', 'url': 'http://twitter.com/search?q=%2315Jun', 'promoted_content': None, 'query': '%2315Jun', 'tweet_volume': 77328}, {'name': '#NationalLobsterDay', 'url': 'http://twitter.com/search?q=%23NationalLobsterDay', 'promoted_content': None, 'query': '%23NationalLobsterDay', 'tweet_volume': None}, {'name': '인터페이스', 'url': 'http://twitter.com/search?q=%EC%9D%B8%ED%84%B0%ED%8E%98%EC%9D%B4%EC%8A%A4', 'promoted_content': None, 'query': '%EC%9D%B8%ED%84%B0%ED%8E%98%EC%9D%B4%EC%8A%A4', 'tweet_volume': None}, {'name': 'Twitter UI', 'url': 'http://twitter.com/search?q=%22Twitter+UI%22', 'promoted_content': None, 'query': '%22Twitter+UI%22', 'tweet_volume': None}, {'name': 'The Color Purple', 'url': 'http://twitter.com/search?q=%22The+Color+Purple%22', 'promoted_content': None, 'query': '%22The+Color+Purple%22', 'tweet_volume': 13821}, {'name': '野際陽子さん', 'url': 'http://twitter.com/search?q=%E9%87%8E%E9%9A%9B%E9%99%BD%E5%AD%90%E3%81%95%E3%82%93', 'promoted_content': None, 'query': '%E9%87%8E%E9%9A%9B%E9%99%BD%E5%AD%90%E3%81%95%E3%82%93', 'tweet_volume': 188198}, {'name': 'The Way You Used To Do', 'url': 'http://twitter.com/search?q=%22The+Way+You+Used+To+Do%22', 'promoted_content': None, 'query': '%22The+Way+You+Used+To+Do%22', 'tweet_volume': None}, {'name': 'Rick Pitino', 'url': 'http://twitter.com/search?q=%22Rick+Pitino%22', 'promoted_content': None, 'query': '%22Rick+Pitino%22', 'tweet_volume': None}, {'name': 'URBE', 'url': 'http://twitter.com/search?q=URBE', 'promoted_content': None, 'query': 'URBE', 'tweet_volume': 30747}, {'name': '트위쳐', 'url': 'http://twitter.com/search?q=%ED%8A%B8%EC%9C%84%EC%B3%90', 'promoted_content': None, 'query': '%ED%8A%B8%EC%9C%84%EC%B3%90', 'tweet_volume': None}, {'name': 'Jordan Pickford', 'url': 'http://twitter.com/search?q=%22Jordan+Pickford%22', 'promoted_content': None, 'query': '%22Jordan+Pickford%22', 'tweet_volume': 10331}, {'name': 'Valeria', 'url': 'http://twitter.com/search?q=Valeria', 'promoted_content': None, 'query': 'Valeria', 'tweet_volume': 21641}, {'name': '티몬 투표', 'url': 'http://twitter.com/search?q=%22%ED%8B%B0%EB%AA%AC+%ED%88%AC%ED%91%9C%22', 'promoted_content': None, 'query': '%22%ED%8B%B0%EB%AA%AC+%ED%88%AC%ED%91%9C%22', 'tweet_volume': 27319}, {'name': 'Harry Maguire', 'url': 'http://twitter.com/search?q=%22Harry+Maguire%22', 'promoted_content': None, 'query': '%22Harry+Maguire%22', 'tweet_volume': None}, {'name': 'Yoko Ono', 'url': 'http://twitter.com/search?q=%22Yoko+Ono%22', 'promoted_content': None, 'query': '%22Yoko+Ono%22', 'tweet_volume': None}, {'name': '#OQueMeIrritaÉ', 'url': 'http://twitter.com/search?q=%23OQueMeIrrita%C3%89', 'promoted_content': None, 'query': '%23OQueMeIrrita%C3%89', 'tweet_volume': 10812}, {'name': '#AdaletYürüyüşü', 'url': 'http://twitter.com/search?q=%23AdaletY%C3%BCr%C3%BCy%C3%BC%C5%9F%C3%BC', 'promoted_content': None, 'query': '%23AdaletY%C3%BCr%C3%BCy%C3%BC%C5%9F%C3%BC', 'tweet_volume': 103325}, {'name': '#ThursdayThoughts', 'url': 'http://twitter.com/search?q=%23ThursdayThoughts', 'promoted_content': None, 'query': '%23ThursdayThoughts', 'tweet_volume': 47540}, {'name': '#العشر_الاواخر_من_رمضان', 'url': 'http://twitter.com/search?q=%23%D8%A7%D9%84%D8%B9%D8%B4%D8%B1_%D8%A7%D9%84%D8%A7%D9%88%D8%A7%D8%AE%D8%B1_%D9%85%D9%86_%D8%B1%D9%85%D8%B6%D8%A7%D9%86', 'promoted_content': None, 'query': '%23%D8%A7%D9%84%D8%B9%D8%B4%D8%B1_%D8%A7%D9%84%D8%A7%D9%88%D8%A7%D8%AE%D8%B1_%D9%85%D9%86_%D8%B1%D9%85%D8%B6%D8%A7%D9%86', 'tweet_volume': 51743}, {'name': '#FrasesFavoritasdePapá', 'url': 'http://twitter.com/search?q=%23FrasesFavoritasdePap%C3%A1', 'promoted_content': None, 'query': '%23FrasesFavoritasdePap%C3%A1', 'tweet_volume': None}, {'name': '#PreguntasMolestosas', 'url': 'http://twitter.com/search?q=%23PreguntasMolestosas', 'promoted_content': None, 'query': '%23PreguntasMolestosas', 'tweet_volume': None}, {'name': '#TeGanasMiAmorSi', 'url': 'http://twitter.com/search?q=%23TeGanasMiAmorSi', 'promoted_content': None, 'query': '%23TeGanasMiAmorSi', 'tweet_volume': None}, {'name': '#VivaTech', 'url': 'http://twitter.com/search?q=%23VivaTech', 'promoted_content': None, 'query': '%23VivaTech', 'tweet_volume': 33283}, {'name': '#BacDeFrancais', 'url': 'http://twitter.com/search?q=%23BacDeFrancais', 'promoted_content': None, 'query': '%23BacDeFrancais', 'tweet_volume': None}, {'name': '#SomosConstituyentes', 'url': 'http://twitter.com/search?q=%23SomosConstituyentes', 'promoted_content': None, 'query': '%23SomosConstituyentes', 'tweet_volume': 13896}, {'name': '#BacHistoire', 'url': 'http://twitter.com/search?q=%23BacHistoire', 'promoted_content': None, 'query': '%23BacHistoire', 'tweet_volume': 11910}, {'name': '#アメトーーク', 'url': 'http://twitter.com/search?q=%23%E3%82%A2%E3%83%A1%E3%83%88%E3%83%BC%E3%83%BC%E3%82%AF', 'promoted_content': None, 'query': '%23%E3%82%A2%E3%83%A1%E3%83%88%E3%83%BC%E3%83%BC%E3%82%AF', 'tweet_volume': 11160}, {'name': '#IThinkWeShouldOutlaw', 'url': 'http://twitter.com/search?q=%23IThinkWeShouldOutlaw', 'promoted_content': None, 'query': '%23IThinkWeShouldOutlaw', 'tweet_volume': 11665}, {'name': '#WarriorsParade', 'url': 'http://twitter.com/search?q=%23WarriorsParade', 'promoted_content': None, 'query': '%23WarriorsParade', 'tweet_volume': None}, {'name': '#ElDebateRadial', 'url': 'http://twitter.com/search?q=%23ElDebateRadial', 'promoted_content': None, 'query': '%23ElDebateRadial', 'tweet_volume': None}, {'name': '#UnNombreParaCFK', 'url': 'http://twitter.com/search?q=%23UnNombreParaCFK', 'promoted_content': None, 'query': '%23UnNombreParaCFK', 'tweet_volume': None}, {'name': '#NesseFeriadoEu', 'url': 'http://twitter.com/search?q=%23NesseFeriadoEu', 'promoted_content': None, 'query': '%23NesseFeriadoEu', 'tweet_volume': 22839}, {'name': '#فيزا_عمره_للقطريين', 'url': 'http://twitter.com/search?q=%23%D9%81%D9%8A%D8%B2%D8%A7_%D8%B9%D9%85%D8%B1%D9%87_%D9%84%D9%84%D9%82%D8%B7%D8%B1%D9%8A%D9%8A%D9%86', 'promoted_content': None, 'query': '%23%D9%81%D9%8A%D8%B2%D8%A7_%D8%B9%D9%85%D8%B1%D9%87_%D9%84%D9%84%D9%82%D8%B7%D8%B1%D9%8A%D9%8A%D9%86', 'tweet_volume': 28097}, {'name': '#WeirdThingsToRageQuit', 'url': 'http://twitter.com/search?q=%23WeirdThingsToRageQuit', 'promoted_content': None, 'query': '%23WeirdThingsToRageQuit', 'tweet_volume': None}, {'name': '#TevezEnTYC', 'url': 'http://twitter.com/search?q=%23TevezEnTYC', 'promoted_content': None, 'query': '%23TevezEnTYC', 'tweet_volume': None}, {'name': '#FeriadoDetremuraSDV', 'url': 'http://twitter.com/search?q=%23FeriadoDetremuraSDV', 'promoted_content': None, 'query': '%23FeriadoDetremuraSDV', 'tweet_volume': 11533}, {'name': '#themasksinger2', 'url': 'http://twitter.com/search?q=%23themasksinger2', 'promoted_content': None, 'query': '%23themasksinger2', 'tweet_volume': 33806}, {'name': '#인용으로_이_트친_흉내내기', 'url': 'http://twitter.com/search?q=%23%EC%9D%B8%EC%9A%A9%EC%9C%BC%EB%A1%9C_%EC%9D%B4_%ED%8A%B8%EC%B9%9C_%ED%9D%89%EB%82%B4%EB%82%B4%EA%B8%B0', 'promoted_content': None, 'query': '%23%EC%9D%B8%EC%9A%A9%EC%9C%BC%EB%A1%9C_%EC%9D%B4_%ED%8A%B8%EC%B9%9C_%ED%9D%89%EB%82%B4%EB%82%B4%EA%B8%B0', 'tweet_volume': None}, {'name': '#40AñosDeDemocracia', 'url': 'http://twitter.com/search?q=%2340A%C3%B1osDeDemocracia', 'promoted_content': None, 'query': '%2340A%C3%B1osDeDemocracia', 'tweet_volume': 24329}, {'name': '#HAPPYCNUDAY', 'url': 'http://twitter.com/search?q=%23HAPPYCNUDAY', 'promoted_content': None, 'query': '%23HAPPYCNUDAY', 'tweet_volume': 15548}, {'name': '#beerdaybritain', 'url': 'http://twitter.com/search?q=%23beerdaybritain', 'promoted_content': None, 'query': '%23beerdaybritain', 'tweet_volume': None}, {'name': '#Agenda1País', 'url': 'http://twitter.com/search?q=%23Agenda1Pa%C3%ADs', 'promoted_content': None, 'query': '%23Agenda1Pa%C3%ADs', 'tweet_volume': 13293}, {'name': '#IusSoli', 'url': 'http://twitter.com/search?q=%23IusSoli', 'promoted_content': None, 'query': '%23IusSoli', 'tweet_volume': 21075}, {'name': '#人間の鑑チャレンジ', 'url': 'http://twitter.com/search?q=%23%E4%BA%BA%E9%96%93%E3%81%AE%E9%91%91%E3%83%81%E3%83%A3%E3%83%AC%E3%83%B3%E3%82%B8', 'promoted_content': None, 'query': '%23%E4%BA%BA%E9%96%93%E3%81%AE%E9%91%91%E3%83%81%E3%83%A3%E3%83%AC%E3%83%B3%E3%82%B8', 'tweet_volume': 19404}, {'name': '#GoodTech17', 'url': 'http://twitter.com/search?q=%23GoodTech17', 'promoted_content': None, 'query': '%23GoodTech17', 'tweet_volume': None}, {'name': '#あなたっぽいア二メキャラ', 'url': 'http://twitter.com/search?q=%23%E3%81%82%E3%81%AA%E3%81%9F%E3%81%A3%E3%81%BD%E3%81%84%E3%82%A2%E4%BA%8C%E3%83%A1%E3%82%AD%E3%83%A3%E3%83%A9', 'promoted_content': None, 'query': '%23%E3%81%82%E3%81%AA%E3%81%9F%E3%81%A3%E3%81%BD%E3%81%84%E3%82%A2%E4%BA%8C%E3%83%A1%E3%82%AD%E3%83%A3%E3%83%A9', 'tweet_volume': 45839}], 'as_of': '2017-06-15T16:24:19Z', 'created_at': '2017-06-15T16:16:59Z', 'locations': [{'name': 'Worldwide', 'woeid': 1}]}]\n",
      "[{'trends': [{'name': '#NationalLobsterDay', 'url': 'http://twitter.com/search?q=%23NationalLobsterDay', 'promoted_content': None, 'query': '%23NationalLobsterDay', 'tweet_volume': None}, {'name': '#ThursdayThoughts', 'url': 'http://twitter.com/search?q=%23ThursdayThoughts', 'promoted_content': None, 'query': '%23ThursdayThoughts', 'tweet_volume': 48525}, {'name': '#WarriorsParade', 'url': 'http://twitter.com/search?q=%23WarriorsParade', 'promoted_content': None, 'query': '%23WarriorsParade', 'tweet_volume': None}, {'name': 'The Color Purple', 'url': 'http://twitter.com/search?q=%22The+Color+Purple%22', 'promoted_content': None, 'query': '%22The+Color+Purple%22', 'tweet_volume': 14225}, {'name': 'Rick Pitino', 'url': 'http://twitter.com/search?q=%22Rick+Pitino%22', 'promoted_content': None, 'query': '%22Rick+Pitino%22', 'tweet_volume': None}, {'name': '#HarryStylesLiveonTour', 'url': 'http://twitter.com/search?q=%23HarryStylesLiveonTour', 'promoted_content': None, 'query': '%23HarryStylesLiveonTour', 'tweet_volume': 30568}, {'name': '#IThinkWeShouldOutlaw', 'url': 'http://twitter.com/search?q=%23IThinkWeShouldOutlaw', 'promoted_content': None, 'query': '%23IThinkWeShouldOutlaw', 'tweet_volume': 11833}, {'name': 'Twitter UI', 'url': 'http://twitter.com/search?q=%22Twitter+UI%22', 'promoted_content': None, 'query': '%22Twitter+UI%22', 'tweet_volume': None}, {'name': 'The Way You Used to Do', 'url': 'http://twitter.com/search?q=%22The+Way+You+Used+to+Do%22', 'promoted_content': None, 'query': '%22The+Way+You+Used+to+Do%22', 'tweet_volume': None}, {'name': 'Fred Warmbier', 'url': 'http://twitter.com/search?q=%22Fred+Warmbier%22', 'promoted_content': None, 'query': '%22Fred+Warmbier%22', 'tweet_volume': None}, {'name': 'Rickie Fowler', 'url': 'http://twitter.com/search?q=%22Rickie+Fowler%22', 'promoted_content': None, 'query': '%22Rickie+Fowler%22', 'tweet_volume': None}, {'name': 'Lyle Jeffs', 'url': 'http://twitter.com/search?q=%22Lyle+Jeffs%22', 'promoted_content': None, 'query': '%22Lyle+Jeffs%22', 'tweet_volume': None}, {'name': 'UofL', 'url': 'http://twitter.com/search?q=UofL', 'promoted_content': None, 'query': 'UofL', 'tweet_volume': None}, {'name': 'One I Want', 'url': 'http://twitter.com/search?q=%22One+I+Want%22', 'promoted_content': None, 'query': '%22One+I+Want%22', 'tweet_volume': None}, {'name': 'The NCAA', 'url': 'http://twitter.com/search?q=%22The+NCAA%22', 'promoted_content': None, 'query': '%22The+NCAA%22', 'tweet_volume': None}, {'name': 'WITCH HUNT', 'url': 'http://twitter.com/search?q=%22WITCH+HUNT%22', 'promoted_content': None, 'query': '%22WITCH+HUNT%22', 'tweet_volume': 75788}, {'name': 'Greg Robinson', 'url': 'http://twitter.com/search?q=%22Greg+Robinson%22', 'promoted_content': None, 'query': '%22Greg+Robinson%22', 'tweet_volume': None}, {'name': 'Don Granato', 'url': 'http://twitter.com/search?q=%22Don+Granato%22', 'promoted_content': None, 'query': '%22Don+Granato%22', 'tweet_volume': None}, {'name': 'Niagara Falls', 'url': 'http://twitter.com/search?q=%22Niagara+Falls%22', 'promoted_content': None, 'query': '%22Niagara+Falls%22', 'tweet_volume': None}, {'name': 'Donnarumma', 'url': 'http://twitter.com/search?q=Donnarumma', 'promoted_content': None, 'query': 'Donnarumma', 'tweet_volume': 43514}, {'name': 'Round of 16', 'url': 'http://twitter.com/search?q=%22Round+of+16%22', 'promoted_content': None, 'query': '%22Round+of+16%22', 'tweet_volume': None}, {'name': 'Cyle Larin', 'url': 'http://twitter.com/search?q=%22Cyle+Larin%22', 'promoted_content': None, 'query': '%22Cyle+Larin%22', 'tweet_volume': None}, {'name': 'Jury in Bill Cosby', 'url': 'http://twitter.com/search?q=%22Jury+in+Bill+Cosby%22', 'promoted_content': None, 'query': '%22Jury+in+Bill+Cosby%22', 'tweet_volume': None}, {'name': 'Yoko Ono', 'url': 'http://twitter.com/search?q=%22Yoko+Ono%22', 'promoted_content': None, 'query': '%22Yoko+Ono%22', 'tweet_volume': None}, {'name': 'Pete Rose', 'url': 'http://twitter.com/search?q=%22Pete+Rose%22', 'promoted_content': None, 'query': '%22Pete+Rose%22', 'tweet_volume': None}, {'name': 'Andre McGee', 'url': 'http://twitter.com/search?q=%22Andre+McGee%22', 'promoted_content': None, 'query': '%22Andre+McGee%22', 'tweet_volume': None}, {'name': 'Marcel Arsenault', 'url': 'http://twitter.com/search?q=%22Marcel+Arsenault%22', 'promoted_content': None, 'query': '%22Marcel+Arsenault%22', 'tweet_volume': None}, {'name': 'Camille Paglia', 'url': 'http://twitter.com/search?q=%22Camille+Paglia%22', 'promoted_content': None, 'query': '%22Camille+Paglia%22', 'tweet_volume': None}, {'name': 'The Art of the Deal', 'url': 'http://twitter.com/search?q=%22The+Art+of+the+Deal%22', 'promoted_content': None, 'query': '%22The+Art+of+the+Deal%22', 'tweet_volume': None}, {'name': 'DEADLOCKED', 'url': 'http://twitter.com/search?q=DEADLOCKED', 'promoted_content': None, 'query': 'DEADLOCKED', 'tweet_volume': None}, {'name': '#WeirdThingsToRageQuit', 'url': 'http://twitter.com/search?q=%23WeirdThingsToRageQuit', 'promoted_content': None, 'query': '%23WeirdThingsToRageQuit', 'tweet_volume': None}, {'name': '#DirtyBudget', 'url': 'http://twitter.com/search?q=%23DirtyBudget', 'promoted_content': None, 'query': '%23DirtyBudget', 'tweet_volume': None}, {'name': '#DACA', 'url': 'http://twitter.com/search?q=%23DACA', 'promoted_content': None, 'query': '%23DACA', 'tweet_volume': None}, {'name': '#INDvBAN', 'url': 'http://twitter.com/search?q=%23INDvBAN', 'promoted_content': None, 'query': '%23INDvBAN', 'tweet_volume': 168123}, {'name': '#HappyBirthdayGIF', 'url': 'http://twitter.com/search?q=%23HappyBirthdayGIF', 'promoted_content': None, 'query': '%23HappyBirthdayGIF', 'tweet_volume': None}, {'name': '#ExtraMostBestestSUMMER', 'url': 'http://twitter.com/search?q=%23ExtraMostBestestSUMMER', 'promoted_content': None, 'query': '%23ExtraMostBestestSUMMER', 'tweet_volume': None}, {'name': '#NatGeoFest', 'url': 'http://twitter.com/search?q=%23NatGeoFest', 'promoted_content': None, 'query': '%23NatGeoFest', 'tweet_volume': None}, {'name': '#SalesforceTour', 'url': 'http://twitter.com/search?q=%23SalesforceTour', 'promoted_content': None, 'query': '%23SalesforceTour', 'tweet_volume': None}, {'name': '#CAeconomy', 'url': 'http://twitter.com/search?q=%23CAeconomy', 'promoted_content': None, 'query': '%23CAeconomy', 'tweet_volume': None}, {'name': '#CentAm2017', 'url': 'http://twitter.com/search?q=%23CentAm2017', 'promoted_content': None, 'query': '%23CentAm2017', 'tweet_volume': None}, {'name': '#ImFunnyBecause', 'url': 'http://twitter.com/search?q=%23ImFunnyBecause', 'promoted_content': None, 'query': '%23ImFunnyBecause', 'tweet_volume': None}, {'name': '#NNSC2017', 'url': 'http://twitter.com/search?q=%23NNSC2017', 'promoted_content': None, 'query': '%23NNSC2017', 'tweet_volume': None}, {'name': '#615Day', 'url': 'http://twitter.com/search?q=%23615Day', 'promoted_content': None, 'query': '%23615Day', 'tweet_volume': None}, {'name': '#DigitalNation17', 'url': 'http://twitter.com/search?q=%23DigitalNation17', 'promoted_content': None, 'query': '%23DigitalNation17', 'tweet_volume': None}, {'name': '#LifesAboutToGetGood', 'url': 'http://twitter.com/search?q=%23LifesAboutToGetGood', 'promoted_content': None, 'query': '%23LifesAboutToGetGood', 'tweet_volume': None}, {'name': '#Research2Policy', 'url': 'http://twitter.com/search?q=%23Research2Policy', 'promoted_content': None, 'query': '%23Research2Policy', 'tweet_volume': None}, {'name': '#AMPlifySocial', 'url': 'http://twitter.com/search?q=%23AMPlifySocial', 'promoted_content': None, 'query': '%23AMPlifySocial', 'tweet_volume': None}, {'name': '#edcampks', 'url': 'http://twitter.com/search?q=%23edcampks', 'promoted_content': None, 'query': '%23edcampks', 'tweet_volume': None}, {'name': '#bbsession', 'url': 'http://twitter.com/search?q=%23bbsession', 'promoted_content': None, 'query': '%23bbsession', 'tweet_volume': None}, {'name': '#FormTheFuture', 'url': 'http://twitter.com/search?q=%23FormTheFuture', 'promoted_content': None, 'query': '%23FormTheFuture', 'tweet_volume': None}], 'as_of': '2017-06-15T16:24:19Z', 'created_at': '2017-06-15T16:22:01Z', 'locations': [{'name': 'United States', 'woeid': 23424977}]}]\n"
     ]
    }
   ],
   "source": [
    "WORLD_WOE_ID = 1\n",
    "US_WOE_ID = 23424977\n",
    "\n",
    "world_trends = twitter_api.trends.place(_id=WORLD_WOE_ID)\n",
    "us_trends = twitter_api.trends.place(_id=US_WOE_ID)\n",
    "\n",
    "print (world_trends)\n",
    "print (us_trends)"
   ]
  },
  {
   "cell_type": "markdown",
   "metadata": {},
   "source": [
    "Für eine strukturierte Ausgabe, um damit uns das Lesen zu erleichtern benutzen wir das built-in Package <b>json</b>. "
   ]
  },
  {
   "cell_type": "code",
   "execution_count": 4,
   "metadata": {
    "collapsed": true
   },
   "outputs": [],
   "source": [
    "import json"
   ]
  },
  {
   "cell_type": "code",
   "execution_count": 5,
   "metadata": {
    "collapsed": false
   },
   "outputs": [
    {
     "name": "stdout",
     "output_type": "stream",
     "text": [
      "[\n",
      " {\n",
      "  \"trends\": [\n",
      "   {\n",
      "    \"name\": \"#INDvBAN\",\n",
      "    \"url\": \"http://twitter.com/search?q=%23INDvBAN\",\n",
      "    \"promoted_content\": null,\n",
      "    \"query\": \"%23INDvBAN\",\n",
      "    \"tweet_volume\": 163050\n",
      "   },\n",
      "   {\n",
      "    \"name\": \"#Donnarumma\",\n",
      "    \"url\": \"http://twitter.com/search?q=%23Donnarumma\",\n",
      "    \"promoted_content\": null,\n",
      "    \"query\": \"%23Donnarumma\",\n",
      "    \"tweet_volume\": 10097\n",
      "   },\n",
      "   {\n",
      "    \"name\": \"\\u30a2\\u30a4\\u30b3\\u30f3\",\n",
      "    \"url\": \"http://twitter.com/search?q=%E3%82%A2%E3%82%A4%E3%82%B3%E3%83%B3\",\n",
      "    \"promoted_content\": null,\n",
      "    \"query\": \"%E3%82%A2%E3%82%A4%E3%82%B3%E3%83%B3\",\n",
      "    \"tweet_volume\": 71769\n",
      "   },\n",
      "   {\n",
      "    \"name\": \"#FelizJueves\",\n",
      "    \"url\": \"http://twitter.com/search?q=%23FelizJueves\",\n",
      "    \"promoted_content\": null,\n",
      "    \"query\": \"%23FelizJueves\",\n",
      "    \"tweet_volume\": 38859\n",
      "   },\n",
      "   {\n",
      "    \"name\": \"#15Jun\",\n",
      "    \"url\": \"http://twitter.com/search?q=%2315Jun\",\n",
      "    \"promoted_content\": null,\n",
      "    \"query\": \"%2315Jun\",\n",
      "    \"tweet_volume\": 77328\n",
      "   },\n",
      "   {\n",
      "    \"name\": \"#NationalLobsterDay\",\n",
      "    \"url\": \"http://twitter.com/search?q=%23NationalLobsterDay\",\n",
      "    \"promoted_content\": null,\n",
      "    \"query\": \"%23NationalLobsterDay\",\n",
      "    \"tweet_volume\": null\n",
      "   },\n",
      "   {\n",
      "    \"name\": \"\\uc778\\ud130\\ud398\\uc774\\uc2a4\",\n",
      "    \"url\": \"http://twitter.com/search?q=%EC%9D%B8%ED%84%B0%ED%8E%98%EC%9D%B4%EC%8A%A4\",\n",
      "    \"promoted_content\": null,\n",
      "    \"query\": \"%EC%9D%B8%ED%84%B0%ED%8E%98%EC%9D%B4%EC%8A%A4\",\n",
      "    \"tweet_volume\": null\n",
      "   },\n",
      "   {\n",
      "    \"name\": \"Twitter UI\",\n",
      "    \"url\": \"http://twitter.com/search?q=%22Twitter+UI%22\",\n",
      "    \"promoted_content\": null,\n",
      "    \"query\": \"%22Twitter+UI%22\",\n",
      "    \"tweet_volume\": null\n",
      "   },\n",
      "   {\n",
      "    \"name\": \"The Color Purple\",\n",
      "    \"url\": \"http://twitter.com/search?q=%22The+Color+Purple%22\",\n",
      "    \"promoted_content\": null,\n",
      "    \"query\": \"%22The+Color+Purple%22\",\n",
      "    \"tweet_volume\": 13821\n",
      "   },\n",
      "   {\n",
      "    \"name\": \"\\u91ce\\u969b\\u967d\\u5b50\\u3055\\u3093\",\n",
      "    \"url\": \"http://twitter.com/search?q=%E9%87%8E%E9%9A%9B%E9%99%BD%E5%AD%90%E3%81%95%E3%82%93\",\n",
      "    \"promoted_content\": null,\n",
      "    \"query\": \"%E9%87%8E%E9%9A%9B%E9%99%BD%E5%AD%90%E3%81%95%E3%82%93\",\n",
      "    \"tweet_volume\": 188198\n",
      "   },\n",
      "   {\n",
      "    \"name\": \"The Way You Used To Do\",\n",
      "    \"url\": \"http://twitter.com/search?q=%22The+Way+You+Used+To+Do%22\",\n",
      "    \"promoted_content\": null,\n",
      "    \"query\": \"%22The+Way+You+Used+To+Do%22\",\n",
      "    \"tweet_volume\": null\n",
      "   },\n",
      "   {\n",
      "    \"name\": \"Rick Pitino\",\n",
      "    \"url\": \"http://twitter.com/search?q=%22Rick+Pitino%22\",\n",
      "    \"promoted_content\": null,\n",
      "    \"query\": \"%22Rick+Pitino%22\",\n",
      "    \"tweet_volume\": null\n",
      "   },\n",
      "   {\n",
      "    \"name\": \"URBE\",\n",
      "    \"url\": \"http://twitter.com/search?q=URBE\",\n",
      "    \"promoted_content\": null,\n",
      "    \"query\": \"URBE\",\n",
      "    \"tweet_volume\": 30747\n",
      "   },\n",
      "   {\n",
      "    \"name\": \"\\ud2b8\\uc704\\uccd0\",\n",
      "    \"url\": \"http://twitter.com/search?q=%ED%8A%B8%EC%9C%84%EC%B3%90\",\n",
      "    \"promoted_content\": null,\n",
      "    \"query\": \"%ED%8A%B8%EC%9C%84%EC%B3%90\",\n",
      "    \"tweet_volume\": null\n",
      "   },\n",
      "   {\n",
      "    \"name\": \"Jordan Pickford\",\n",
      "    \"url\": \"http://twitter.com/search?q=%22Jordan+Pickford%22\",\n",
      "    \"promoted_content\": null,\n",
      "    \"query\": \"%22Jordan+Pickford%22\",\n",
      "    \"tweet_volume\": 10331\n",
      "   },\n",
      "   {\n",
      "    \"name\": \"Valeria\",\n",
      "    \"url\": \"http://twitter.com/search?q=Valeria\",\n",
      "    \"promoted_content\": null,\n",
      "    \"query\": \"Valeria\",\n",
      "    \"tweet_volume\": 21641\n",
      "   },\n",
      "   {\n",
      "    \"name\": \"\\ud2f0\\ubaac \\ud22c\\ud45c\",\n",
      "    \"url\": \"http://twitter.com/search?q=%22%ED%8B%B0%EB%AA%AC+%ED%88%AC%ED%91%9C%22\",\n",
      "    \"promoted_content\": null,\n",
      "    \"query\": \"%22%ED%8B%B0%EB%AA%AC+%ED%88%AC%ED%91%9C%22\",\n",
      "    \"tweet_volume\": 27319\n",
      "   },\n",
      "   {\n",
      "    \"name\": \"Harry Maguire\",\n",
      "    \"url\": \"http://twitter.com/search?q=%22Harry+Maguire%22\",\n",
      "    \"promoted_content\": null,\n",
      "    \"query\": \"%22Harry+Maguire%22\",\n",
      "    \"tweet_volume\": null\n",
      "   },\n",
      "   {\n",
      "    \"name\": \"Yoko Ono\",\n",
      "    \"url\": \"http://twitter.com/search?q=%22Yoko+Ono%22\",\n",
      "    \"promoted_content\": null,\n",
      "    \"query\": \"%22Yoko+Ono%22\",\n",
      "    \"tweet_volume\": null\n",
      "   },\n",
      "   {\n",
      "    \"name\": \"#OQueMeIrrita\\u00c9\",\n",
      "    \"url\": \"http://twitter.com/search?q=%23OQueMeIrrita%C3%89\",\n",
      "    \"promoted_content\": null,\n",
      "    \"query\": \"%23OQueMeIrrita%C3%89\",\n",
      "    \"tweet_volume\": 10812\n",
      "   },\n",
      "   {\n",
      "    \"name\": \"#AdaletY\\u00fcr\\u00fcy\\u00fc\\u015f\\u00fc\",\n",
      "    \"url\": \"http://twitter.com/search?q=%23AdaletY%C3%BCr%C3%BCy%C3%BC%C5%9F%C3%BC\",\n",
      "    \"promoted_content\": null,\n",
      "    \"query\": \"%23AdaletY%C3%BCr%C3%BCy%C3%BC%C5%9F%C3%BC\",\n",
      "    \"tweet_volume\": 103325\n",
      "   },\n",
      "   {\n",
      "    \"name\": \"#ThursdayThoughts\",\n",
      "    \"url\": \"http://twitter.com/search?q=%23ThursdayThoughts\",\n",
      "    \"promoted_content\": null,\n",
      "    \"query\": \"%23ThursdayThoughts\",\n",
      "    \"tweet_volume\": 47540\n",
      "   },\n",
      "   {\n",
      "    \"name\": \"#\\u0627\\u0644\\u0639\\u0634\\u0631_\\u0627\\u0644\\u0627\\u0648\\u0627\\u062e\\u0631_\\u0645\\u0646_\\u0631\\u0645\\u0636\\u0627\\u0646\",\n",
      "    \"url\": \"http://twitter.com/search?q=%23%D8%A7%D9%84%D8%B9%D8%B4%D8%B1_%D8%A7%D9%84%D8%A7%D9%88%D8%A7%D8%AE%D8%B1_%D9%85%D9%86_%D8%B1%D9%85%D8%B6%D8%A7%D9%86\",\n",
      "    \"promoted_content\": null,\n",
      "    \"query\": \"%23%D8%A7%D9%84%D8%B9%D8%B4%D8%B1_%D8%A7%D9%84%D8%A7%D9%88%D8%A7%D8%AE%D8%B1_%D9%85%D9%86_%D8%B1%D9%85%D8%B6%D8%A7%D9%86\",\n",
      "    \"tweet_volume\": 51743\n",
      "   },\n",
      "   {\n",
      "    \"name\": \"#FrasesFavoritasdePap\\u00e1\",\n",
      "    \"url\": \"http://twitter.com/search?q=%23FrasesFavoritasdePap%C3%A1\",\n",
      "    \"promoted_content\": null,\n",
      "    \"query\": \"%23FrasesFavoritasdePap%C3%A1\",\n",
      "    \"tweet_volume\": null\n",
      "   },\n",
      "   {\n",
      "    \"name\": \"#PreguntasMolestosas\",\n",
      "    \"url\": \"http://twitter.com/search?q=%23PreguntasMolestosas\",\n",
      "    \"promoted_content\": null,\n",
      "    \"query\": \"%23PreguntasMolestosas\",\n",
      "    \"tweet_volume\": null\n",
      "   },\n",
      "   {\n",
      "    \"name\": \"#TeGanasMiAmorSi\",\n",
      "    \"url\": \"http://twitter.com/search?q=%23TeGanasMiAmorSi\",\n",
      "    \"promoted_content\": null,\n",
      "    \"query\": \"%23TeGanasMiAmorSi\",\n",
      "    \"tweet_volume\": null\n",
      "   },\n",
      "   {\n",
      "    \"name\": \"#VivaTech\",\n",
      "    \"url\": \"http://twitter.com/search?q=%23VivaTech\",\n",
      "    \"promoted_content\": null,\n",
      "    \"query\": \"%23VivaTech\",\n",
      "    \"tweet_volume\": 33283\n",
      "   },\n",
      "   {\n",
      "    \"name\": \"#BacDeFrancais\",\n",
      "    \"url\": \"http://twitter.com/search?q=%23BacDeFrancais\",\n",
      "    \"promoted_content\": null,\n",
      "    \"query\": \"%23BacDeFrancais\",\n",
      "    \"tweet_volume\": null\n",
      "   },\n",
      "   {\n",
      "    \"name\": \"#SomosConstituyentes\",\n",
      "    \"url\": \"http://twitter.com/search?q=%23SomosConstituyentes\",\n",
      "    \"promoted_content\": null,\n",
      "    \"query\": \"%23SomosConstituyentes\",\n",
      "    \"tweet_volume\": 13896\n",
      "   },\n",
      "   {\n",
      "    \"name\": \"#BacHistoire\",\n",
      "    \"url\": \"http://twitter.com/search?q=%23BacHistoire\",\n",
      "    \"promoted_content\": null,\n",
      "    \"query\": \"%23BacHistoire\",\n",
      "    \"tweet_volume\": 11910\n",
      "   },\n",
      "   {\n",
      "    \"name\": \"#\\u30a2\\u30e1\\u30c8\\u30fc\\u30fc\\u30af\",\n",
      "    \"url\": \"http://twitter.com/search?q=%23%E3%82%A2%E3%83%A1%E3%83%88%E3%83%BC%E3%83%BC%E3%82%AF\",\n",
      "    \"promoted_content\": null,\n",
      "    \"query\": \"%23%E3%82%A2%E3%83%A1%E3%83%88%E3%83%BC%E3%83%BC%E3%82%AF\",\n",
      "    \"tweet_volume\": 11160\n",
      "   },\n",
      "   {\n",
      "    \"name\": \"#IThinkWeShouldOutlaw\",\n",
      "    \"url\": \"http://twitter.com/search?q=%23IThinkWeShouldOutlaw\",\n",
      "    \"promoted_content\": null,\n",
      "    \"query\": \"%23IThinkWeShouldOutlaw\",\n",
      "    \"tweet_volume\": 11665\n",
      "   },\n",
      "   {\n",
      "    \"name\": \"#WarriorsParade\",\n",
      "    \"url\": \"http://twitter.com/search?q=%23WarriorsParade\",\n",
      "    \"promoted_content\": null,\n",
      "    \"query\": \"%23WarriorsParade\",\n",
      "    \"tweet_volume\": null\n",
      "   },\n",
      "   {\n",
      "    \"name\": \"#ElDebateRadial\",\n",
      "    \"url\": \"http://twitter.com/search?q=%23ElDebateRadial\",\n",
      "    \"promoted_content\": null,\n",
      "    \"query\": \"%23ElDebateRadial\",\n",
      "    \"tweet_volume\": null\n",
      "   },\n",
      "   {\n",
      "    \"name\": \"#UnNombreParaCFK\",\n",
      "    \"url\": \"http://twitter.com/search?q=%23UnNombreParaCFK\",\n",
      "    \"promoted_content\": null,\n",
      "    \"query\": \"%23UnNombreParaCFK\",\n",
      "    \"tweet_volume\": null\n",
      "   },\n",
      "   {\n",
      "    \"name\": \"#NesseFeriadoEu\",\n",
      "    \"url\": \"http://twitter.com/search?q=%23NesseFeriadoEu\",\n",
      "    \"promoted_content\": null,\n",
      "    \"query\": \"%23NesseFeriadoEu\",\n",
      "    \"tweet_volume\": 22839\n",
      "   },\n",
      "   {\n",
      "    \"name\": \"#\\u0641\\u064a\\u0632\\u0627_\\u0639\\u0645\\u0631\\u0647_\\u0644\\u0644\\u0642\\u0637\\u0631\\u064a\\u064a\\u0646\",\n",
      "    \"url\": \"http://twitter.com/search?q=%23%D9%81%D9%8A%D8%B2%D8%A7_%D8%B9%D9%85%D8%B1%D9%87_%D9%84%D9%84%D9%82%D8%B7%D8%B1%D9%8A%D9%8A%D9%86\",\n",
      "    \"promoted_content\": null,\n",
      "    \"query\": \"%23%D9%81%D9%8A%D8%B2%D8%A7_%D8%B9%D9%85%D8%B1%D9%87_%D9%84%D9%84%D9%82%D8%B7%D8%B1%D9%8A%D9%8A%D9%86\",\n",
      "    \"tweet_volume\": 28097\n",
      "   },\n",
      "   {\n",
      "    \"name\": \"#WeirdThingsToRageQuit\",\n",
      "    \"url\": \"http://twitter.com/search?q=%23WeirdThingsToRageQuit\",\n",
      "    \"promoted_content\": null,\n",
      "    \"query\": \"%23WeirdThingsToRageQuit\",\n",
      "    \"tweet_volume\": null\n",
      "   },\n",
      "   {\n",
      "    \"name\": \"#TevezEnTYC\",\n",
      "    \"url\": \"http://twitter.com/search?q=%23TevezEnTYC\",\n",
      "    \"promoted_content\": null,\n",
      "    \"query\": \"%23TevezEnTYC\",\n",
      "    \"tweet_volume\": null\n",
      "   },\n",
      "   {\n",
      "    \"name\": \"#FeriadoDetremuraSDV\",\n",
      "    \"url\": \"http://twitter.com/search?q=%23FeriadoDetremuraSDV\",\n",
      "    \"promoted_content\": null,\n",
      "    \"query\": \"%23FeriadoDetremuraSDV\",\n",
      "    \"tweet_volume\": 11533\n",
      "   },\n",
      "   {\n",
      "    \"name\": \"#themasksinger2\",\n",
      "    \"url\": \"http://twitter.com/search?q=%23themasksinger2\",\n",
      "    \"promoted_content\": null,\n",
      "    \"query\": \"%23themasksinger2\",\n",
      "    \"tweet_volume\": 33806\n",
      "   },\n",
      "   {\n",
      "    \"name\": \"#\\uc778\\uc6a9\\uc73c\\ub85c_\\uc774_\\ud2b8\\uce5c_\\ud749\\ub0b4\\ub0b4\\uae30\",\n",
      "    \"url\": \"http://twitter.com/search?q=%23%EC%9D%B8%EC%9A%A9%EC%9C%BC%EB%A1%9C_%EC%9D%B4_%ED%8A%B8%EC%B9%9C_%ED%9D%89%EB%82%B4%EB%82%B4%EA%B8%B0\",\n",
      "    \"promoted_content\": null,\n",
      "    \"query\": \"%23%EC%9D%B8%EC%9A%A9%EC%9C%BC%EB%A1%9C_%EC%9D%B4_%ED%8A%B8%EC%B9%9C_%ED%9D%89%EB%82%B4%EB%82%B4%EA%B8%B0\",\n",
      "    \"tweet_volume\": null\n",
      "   },\n",
      "   {\n",
      "    \"name\": \"#40A\\u00f1osDeDemocracia\",\n",
      "    \"url\": \"http://twitter.com/search?q=%2340A%C3%B1osDeDemocracia\",\n",
      "    \"promoted_content\": null,\n",
      "    \"query\": \"%2340A%C3%B1osDeDemocracia\",\n",
      "    \"tweet_volume\": 24329\n",
      "   },\n",
      "   {\n",
      "    \"name\": \"#HAPPYCNUDAY\",\n",
      "    \"url\": \"http://twitter.com/search?q=%23HAPPYCNUDAY\",\n",
      "    \"promoted_content\": null,\n",
      "    \"query\": \"%23HAPPYCNUDAY\",\n",
      "    \"tweet_volume\": 15548\n",
      "   },\n",
      "   {\n",
      "    \"name\": \"#beerdaybritain\",\n",
      "    \"url\": \"http://twitter.com/search?q=%23beerdaybritain\",\n",
      "    \"promoted_content\": null,\n",
      "    \"query\": \"%23beerdaybritain\",\n",
      "    \"tweet_volume\": null\n",
      "   },\n",
      "   {\n",
      "    \"name\": \"#Agenda1Pa\\u00eds\",\n",
      "    \"url\": \"http://twitter.com/search?q=%23Agenda1Pa%C3%ADs\",\n",
      "    \"promoted_content\": null,\n",
      "    \"query\": \"%23Agenda1Pa%C3%ADs\",\n",
      "    \"tweet_volume\": 13293\n",
      "   },\n",
      "   {\n",
      "    \"name\": \"#IusSoli\",\n",
      "    \"url\": \"http://twitter.com/search?q=%23IusSoli\",\n",
      "    \"promoted_content\": null,\n",
      "    \"query\": \"%23IusSoli\",\n",
      "    \"tweet_volume\": 21075\n",
      "   },\n",
      "   {\n",
      "    \"name\": \"#\\u4eba\\u9593\\u306e\\u9451\\u30c1\\u30e3\\u30ec\\u30f3\\u30b8\",\n",
      "    \"url\": \"http://twitter.com/search?q=%23%E4%BA%BA%E9%96%93%E3%81%AE%E9%91%91%E3%83%81%E3%83%A3%E3%83%AC%E3%83%B3%E3%82%B8\",\n",
      "    \"promoted_content\": null,\n",
      "    \"query\": \"%23%E4%BA%BA%E9%96%93%E3%81%AE%E9%91%91%E3%83%81%E3%83%A3%E3%83%AC%E3%83%B3%E3%82%B8\",\n",
      "    \"tweet_volume\": 19404\n",
      "   },\n",
      "   {\n",
      "    \"name\": \"#GoodTech17\",\n",
      "    \"url\": \"http://twitter.com/search?q=%23GoodTech17\",\n",
      "    \"promoted_content\": null,\n",
      "    \"query\": \"%23GoodTech17\",\n",
      "    \"tweet_volume\": null\n",
      "   },\n",
      "   {\n",
      "    \"name\": \"#\\u3042\\u306a\\u305f\\u3063\\u307d\\u3044\\u30a2\\u4e8c\\u30e1\\u30ad\\u30e3\\u30e9\",\n",
      "    \"url\": \"http://twitter.com/search?q=%23%E3%81%82%E3%81%AA%E3%81%9F%E3%81%A3%E3%81%BD%E3%81%84%E3%82%A2%E4%BA%8C%E3%83%A1%E3%82%AD%E3%83%A3%E3%83%A9\",\n",
      "    \"promoted_content\": null,\n",
      "    \"query\": \"%23%E3%81%82%E3%81%AA%E3%81%9F%E3%81%A3%E3%81%BD%E3%81%84%E3%82%A2%E4%BA%8C%E3%83%A1%E3%82%AD%E3%83%A3%E3%83%A9\",\n",
      "    \"tweet_volume\": 45839\n",
      "   }\n",
      "  ],\n",
      "  \"as_of\": \"2017-06-15T16:24:19Z\",\n",
      "  \"created_at\": \"2017-06-15T16:16:59Z\",\n",
      "  \"locations\": [\n",
      "   {\n",
      "    \"name\": \"Worldwide\",\n",
      "    \"woeid\": 1\n",
      "   }\n",
      "  ]\n",
      " }\n",
      "]\n",
      "[\n",
      " {\n",
      "  \"trends\": [\n",
      "   {\n",
      "    \"name\": \"#NationalLobsterDay\",\n",
      "    \"url\": \"http://twitter.com/search?q=%23NationalLobsterDay\",\n",
      "    \"promoted_content\": null,\n",
      "    \"query\": \"%23NationalLobsterDay\",\n",
      "    \"tweet_volume\": null\n",
      "   },\n",
      "   {\n",
      "    \"name\": \"#ThursdayThoughts\",\n",
      "    \"url\": \"http://twitter.com/search?q=%23ThursdayThoughts\",\n",
      "    \"promoted_content\": null,\n",
      "    \"query\": \"%23ThursdayThoughts\",\n",
      "    \"tweet_volume\": 48525\n",
      "   },\n",
      "   {\n",
      "    \"name\": \"#WarriorsParade\",\n",
      "    \"url\": \"http://twitter.com/search?q=%23WarriorsParade\",\n",
      "    \"promoted_content\": null,\n",
      "    \"query\": \"%23WarriorsParade\",\n",
      "    \"tweet_volume\": null\n",
      "   },\n",
      "   {\n",
      "    \"name\": \"The Color Purple\",\n",
      "    \"url\": \"http://twitter.com/search?q=%22The+Color+Purple%22\",\n",
      "    \"promoted_content\": null,\n",
      "    \"query\": \"%22The+Color+Purple%22\",\n",
      "    \"tweet_volume\": 14225\n",
      "   },\n",
      "   {\n",
      "    \"name\": \"Rick Pitino\",\n",
      "    \"url\": \"http://twitter.com/search?q=%22Rick+Pitino%22\",\n",
      "    \"promoted_content\": null,\n",
      "    \"query\": \"%22Rick+Pitino%22\",\n",
      "    \"tweet_volume\": null\n",
      "   },\n",
      "   {\n",
      "    \"name\": \"#HarryStylesLiveonTour\",\n",
      "    \"url\": \"http://twitter.com/search?q=%23HarryStylesLiveonTour\",\n",
      "    \"promoted_content\": null,\n",
      "    \"query\": \"%23HarryStylesLiveonTour\",\n",
      "    \"tweet_volume\": 30568\n",
      "   },\n",
      "   {\n",
      "    \"name\": \"#IThinkWeShouldOutlaw\",\n",
      "    \"url\": \"http://twitter.com/search?q=%23IThinkWeShouldOutlaw\",\n",
      "    \"promoted_content\": null,\n",
      "    \"query\": \"%23IThinkWeShouldOutlaw\",\n",
      "    \"tweet_volume\": 11833\n",
      "   },\n",
      "   {\n",
      "    \"name\": \"Twitter UI\",\n",
      "    \"url\": \"http://twitter.com/search?q=%22Twitter+UI%22\",\n",
      "    \"promoted_content\": null,\n",
      "    \"query\": \"%22Twitter+UI%22\",\n",
      "    \"tweet_volume\": null\n",
      "   },\n",
      "   {\n",
      "    \"name\": \"The Way You Used to Do\",\n",
      "    \"url\": \"http://twitter.com/search?q=%22The+Way+You+Used+to+Do%22\",\n",
      "    \"promoted_content\": null,\n",
      "    \"query\": \"%22The+Way+You+Used+to+Do%22\",\n",
      "    \"tweet_volume\": null\n",
      "   },\n",
      "   {\n",
      "    \"name\": \"Fred Warmbier\",\n",
      "    \"url\": \"http://twitter.com/search?q=%22Fred+Warmbier%22\",\n",
      "    \"promoted_content\": null,\n",
      "    \"query\": \"%22Fred+Warmbier%22\",\n",
      "    \"tweet_volume\": null\n",
      "   },\n",
      "   {\n",
      "    \"name\": \"Rickie Fowler\",\n",
      "    \"url\": \"http://twitter.com/search?q=%22Rickie+Fowler%22\",\n",
      "    \"promoted_content\": null,\n",
      "    \"query\": \"%22Rickie+Fowler%22\",\n",
      "    \"tweet_volume\": null\n",
      "   },\n",
      "   {\n",
      "    \"name\": \"Lyle Jeffs\",\n",
      "    \"url\": \"http://twitter.com/search?q=%22Lyle+Jeffs%22\",\n",
      "    \"promoted_content\": null,\n",
      "    \"query\": \"%22Lyle+Jeffs%22\",\n",
      "    \"tweet_volume\": null\n",
      "   },\n",
      "   {\n",
      "    \"name\": \"UofL\",\n",
      "    \"url\": \"http://twitter.com/search?q=UofL\",\n",
      "    \"promoted_content\": null,\n",
      "    \"query\": \"UofL\",\n",
      "    \"tweet_volume\": null\n",
      "   },\n",
      "   {\n",
      "    \"name\": \"One I Want\",\n",
      "    \"url\": \"http://twitter.com/search?q=%22One+I+Want%22\",\n",
      "    \"promoted_content\": null,\n",
      "    \"query\": \"%22One+I+Want%22\",\n",
      "    \"tweet_volume\": null\n",
      "   },\n",
      "   {\n",
      "    \"name\": \"The NCAA\",\n",
      "    \"url\": \"http://twitter.com/search?q=%22The+NCAA%22\",\n",
      "    \"promoted_content\": null,\n",
      "    \"query\": \"%22The+NCAA%22\",\n",
      "    \"tweet_volume\": null\n",
      "   },\n",
      "   {\n",
      "    \"name\": \"WITCH HUNT\",\n",
      "    \"url\": \"http://twitter.com/search?q=%22WITCH+HUNT%22\",\n",
      "    \"promoted_content\": null,\n",
      "    \"query\": \"%22WITCH+HUNT%22\",\n",
      "    \"tweet_volume\": 75788\n",
      "   },\n",
      "   {\n",
      "    \"name\": \"Greg Robinson\",\n",
      "    \"url\": \"http://twitter.com/search?q=%22Greg+Robinson%22\",\n",
      "    \"promoted_content\": null,\n",
      "    \"query\": \"%22Greg+Robinson%22\",\n",
      "    \"tweet_volume\": null\n",
      "   },\n",
      "   {\n",
      "    \"name\": \"Don Granato\",\n",
      "    \"url\": \"http://twitter.com/search?q=%22Don+Granato%22\",\n",
      "    \"promoted_content\": null,\n",
      "    \"query\": \"%22Don+Granato%22\",\n",
      "    \"tweet_volume\": null\n",
      "   },\n",
      "   {\n",
      "    \"name\": \"Niagara Falls\",\n",
      "    \"url\": \"http://twitter.com/search?q=%22Niagara+Falls%22\",\n",
      "    \"promoted_content\": null,\n",
      "    \"query\": \"%22Niagara+Falls%22\",\n",
      "    \"tweet_volume\": null\n",
      "   },\n",
      "   {\n",
      "    \"name\": \"Donnarumma\",\n",
      "    \"url\": \"http://twitter.com/search?q=Donnarumma\",\n",
      "    \"promoted_content\": null,\n",
      "    \"query\": \"Donnarumma\",\n",
      "    \"tweet_volume\": 43514\n",
      "   },\n",
      "   {\n",
      "    \"name\": \"Round of 16\",\n",
      "    \"url\": \"http://twitter.com/search?q=%22Round+of+16%22\",\n",
      "    \"promoted_content\": null,\n",
      "    \"query\": \"%22Round+of+16%22\",\n",
      "    \"tweet_volume\": null\n",
      "   },\n",
      "   {\n",
      "    \"name\": \"Cyle Larin\",\n",
      "    \"url\": \"http://twitter.com/search?q=%22Cyle+Larin%22\",\n",
      "    \"promoted_content\": null,\n",
      "    \"query\": \"%22Cyle+Larin%22\",\n",
      "    \"tweet_volume\": null\n",
      "   },\n",
      "   {\n",
      "    \"name\": \"Jury in Bill Cosby\",\n",
      "    \"url\": \"http://twitter.com/search?q=%22Jury+in+Bill+Cosby%22\",\n",
      "    \"promoted_content\": null,\n",
      "    \"query\": \"%22Jury+in+Bill+Cosby%22\",\n",
      "    \"tweet_volume\": null\n",
      "   },\n",
      "   {\n",
      "    \"name\": \"Yoko Ono\",\n",
      "    \"url\": \"http://twitter.com/search?q=%22Yoko+Ono%22\",\n",
      "    \"promoted_content\": null,\n",
      "    \"query\": \"%22Yoko+Ono%22\",\n",
      "    \"tweet_volume\": null\n",
      "   },\n",
      "   {\n",
      "    \"name\": \"Pete Rose\",\n",
      "    \"url\": \"http://twitter.com/search?q=%22Pete+Rose%22\",\n",
      "    \"promoted_content\": null,\n",
      "    \"query\": \"%22Pete+Rose%22\",\n",
      "    \"tweet_volume\": null\n",
      "   },\n",
      "   {\n",
      "    \"name\": \"Andre McGee\",\n",
      "    \"url\": \"http://twitter.com/search?q=%22Andre+McGee%22\",\n",
      "    \"promoted_content\": null,\n",
      "    \"query\": \"%22Andre+McGee%22\",\n",
      "    \"tweet_volume\": null\n",
      "   },\n",
      "   {\n",
      "    \"name\": \"Marcel Arsenault\",\n",
      "    \"url\": \"http://twitter.com/search?q=%22Marcel+Arsenault%22\",\n",
      "    \"promoted_content\": null,\n",
      "    \"query\": \"%22Marcel+Arsenault%22\",\n",
      "    \"tweet_volume\": null\n",
      "   },\n",
      "   {\n",
      "    \"name\": \"Camille Paglia\",\n",
      "    \"url\": \"http://twitter.com/search?q=%22Camille+Paglia%22\",\n",
      "    \"promoted_content\": null,\n",
      "    \"query\": \"%22Camille+Paglia%22\",\n",
      "    \"tweet_volume\": null\n",
      "   },\n",
      "   {\n",
      "    \"name\": \"The Art of the Deal\",\n",
      "    \"url\": \"http://twitter.com/search?q=%22The+Art+of+the+Deal%22\",\n",
      "    \"promoted_content\": null,\n",
      "    \"query\": \"%22The+Art+of+the+Deal%22\",\n",
      "    \"tweet_volume\": null\n",
      "   },\n",
      "   {\n",
      "    \"name\": \"DEADLOCKED\",\n",
      "    \"url\": \"http://twitter.com/search?q=DEADLOCKED\",\n",
      "    \"promoted_content\": null,\n",
      "    \"query\": \"DEADLOCKED\",\n",
      "    \"tweet_volume\": null\n",
      "   },\n",
      "   {\n",
      "    \"name\": \"#WeirdThingsToRageQuit\",\n",
      "    \"url\": \"http://twitter.com/search?q=%23WeirdThingsToRageQuit\",\n",
      "    \"promoted_content\": null,\n",
      "    \"query\": \"%23WeirdThingsToRageQuit\",\n",
      "    \"tweet_volume\": null\n",
      "   },\n",
      "   {\n",
      "    \"name\": \"#DirtyBudget\",\n",
      "    \"url\": \"http://twitter.com/search?q=%23DirtyBudget\",\n",
      "    \"promoted_content\": null,\n",
      "    \"query\": \"%23DirtyBudget\",\n",
      "    \"tweet_volume\": null\n",
      "   },\n",
      "   {\n",
      "    \"name\": \"#DACA\",\n",
      "    \"url\": \"http://twitter.com/search?q=%23DACA\",\n",
      "    \"promoted_content\": null,\n",
      "    \"query\": \"%23DACA\",\n",
      "    \"tweet_volume\": null\n",
      "   },\n",
      "   {\n",
      "    \"name\": \"#INDvBAN\",\n",
      "    \"url\": \"http://twitter.com/search?q=%23INDvBAN\",\n",
      "    \"promoted_content\": null,\n",
      "    \"query\": \"%23INDvBAN\",\n",
      "    \"tweet_volume\": 168123\n",
      "   },\n",
      "   {\n",
      "    \"name\": \"#HappyBirthdayGIF\",\n",
      "    \"url\": \"http://twitter.com/search?q=%23HappyBirthdayGIF\",\n",
      "    \"promoted_content\": null,\n",
      "    \"query\": \"%23HappyBirthdayGIF\",\n",
      "    \"tweet_volume\": null\n",
      "   },\n",
      "   {\n",
      "    \"name\": \"#ExtraMostBestestSUMMER\",\n",
      "    \"url\": \"http://twitter.com/search?q=%23ExtraMostBestestSUMMER\",\n",
      "    \"promoted_content\": null,\n",
      "    \"query\": \"%23ExtraMostBestestSUMMER\",\n",
      "    \"tweet_volume\": null\n",
      "   },\n",
      "   {\n",
      "    \"name\": \"#NatGeoFest\",\n",
      "    \"url\": \"http://twitter.com/search?q=%23NatGeoFest\",\n",
      "    \"promoted_content\": null,\n",
      "    \"query\": \"%23NatGeoFest\",\n",
      "    \"tweet_volume\": null\n",
      "   },\n",
      "   {\n",
      "    \"name\": \"#SalesforceTour\",\n",
      "    \"url\": \"http://twitter.com/search?q=%23SalesforceTour\",\n",
      "    \"promoted_content\": null,\n",
      "    \"query\": \"%23SalesforceTour\",\n",
      "    \"tweet_volume\": null\n",
      "   },\n",
      "   {\n",
      "    \"name\": \"#CAeconomy\",\n",
      "    \"url\": \"http://twitter.com/search?q=%23CAeconomy\",\n",
      "    \"promoted_content\": null,\n",
      "    \"query\": \"%23CAeconomy\",\n",
      "    \"tweet_volume\": null\n",
      "   },\n",
      "   {\n",
      "    \"name\": \"#CentAm2017\",\n",
      "    \"url\": \"http://twitter.com/search?q=%23CentAm2017\",\n",
      "    \"promoted_content\": null,\n",
      "    \"query\": \"%23CentAm2017\",\n",
      "    \"tweet_volume\": null\n",
      "   },\n",
      "   {\n",
      "    \"name\": \"#ImFunnyBecause\",\n",
      "    \"url\": \"http://twitter.com/search?q=%23ImFunnyBecause\",\n",
      "    \"promoted_content\": null,\n",
      "    \"query\": \"%23ImFunnyBecause\",\n",
      "    \"tweet_volume\": null\n",
      "   },\n",
      "   {\n",
      "    \"name\": \"#NNSC2017\",\n",
      "    \"url\": \"http://twitter.com/search?q=%23NNSC2017\",\n",
      "    \"promoted_content\": null,\n",
      "    \"query\": \"%23NNSC2017\",\n",
      "    \"tweet_volume\": null\n",
      "   },\n",
      "   {\n",
      "    \"name\": \"#615Day\",\n",
      "    \"url\": \"http://twitter.com/search?q=%23615Day\",\n",
      "    \"promoted_content\": null,\n",
      "    \"query\": \"%23615Day\",\n",
      "    \"tweet_volume\": null\n",
      "   },\n",
      "   {\n",
      "    \"name\": \"#DigitalNation17\",\n",
      "    \"url\": \"http://twitter.com/search?q=%23DigitalNation17\",\n",
      "    \"promoted_content\": null,\n",
      "    \"query\": \"%23DigitalNation17\",\n",
      "    \"tweet_volume\": null\n",
      "   },\n",
      "   {\n",
      "    \"name\": \"#LifesAboutToGetGood\",\n",
      "    \"url\": \"http://twitter.com/search?q=%23LifesAboutToGetGood\",\n",
      "    \"promoted_content\": null,\n",
      "    \"query\": \"%23LifesAboutToGetGood\",\n",
      "    \"tweet_volume\": null\n",
      "   },\n",
      "   {\n",
      "    \"name\": \"#Research2Policy\",\n",
      "    \"url\": \"http://twitter.com/search?q=%23Research2Policy\",\n",
      "    \"promoted_content\": null,\n",
      "    \"query\": \"%23Research2Policy\",\n",
      "    \"tweet_volume\": null\n",
      "   },\n",
      "   {\n",
      "    \"name\": \"#AMPlifySocial\",\n",
      "    \"url\": \"http://twitter.com/search?q=%23AMPlifySocial\",\n",
      "    \"promoted_content\": null,\n",
      "    \"query\": \"%23AMPlifySocial\",\n",
      "    \"tweet_volume\": null\n",
      "   },\n",
      "   {\n",
      "    \"name\": \"#edcampks\",\n",
      "    \"url\": \"http://twitter.com/search?q=%23edcampks\",\n",
      "    \"promoted_content\": null,\n",
      "    \"query\": \"%23edcampks\",\n",
      "    \"tweet_volume\": null\n",
      "   },\n",
      "   {\n",
      "    \"name\": \"#bbsession\",\n",
      "    \"url\": \"http://twitter.com/search?q=%23bbsession\",\n",
      "    \"promoted_content\": null,\n",
      "    \"query\": \"%23bbsession\",\n",
      "    \"tweet_volume\": null\n",
      "   },\n",
      "   {\n",
      "    \"name\": \"#FormTheFuture\",\n",
      "    \"url\": \"http://twitter.com/search?q=%23FormTheFuture\",\n",
      "    \"promoted_content\": null,\n",
      "    \"query\": \"%23FormTheFuture\",\n",
      "    \"tweet_volume\": null\n",
      "   }\n",
      "  ],\n",
      "  \"as_of\": \"2017-06-15T16:24:19Z\",\n",
      "  \"created_at\": \"2017-06-15T16:22:01Z\",\n",
      "  \"locations\": [\n",
      "   {\n",
      "    \"name\": \"United States\",\n",
      "    \"woeid\": 23424977\n",
      "   }\n",
      "  ]\n",
      " }\n",
      "]\n"
     ]
    }
   ],
   "source": [
    "print(json.dumps(world_trends, indent=1))\n",
    "print(json.dumps(us_trends, indent=1))"
   ]
  },
  {
   "cell_type": "code",
   "execution_count": 6,
   "metadata": {
    "collapsed": false
   },
   "outputs": [
    {
     "name": "stdout",
     "output_type": "stream",
     "text": [
      "{'Yoko Ono', '#WeirdThingsToRageQuit', '#WarriorsParade', 'Rick Pitino', '#NationalLobsterDay', 'Twitter UI', '#IThinkWeShouldOutlaw', 'The Color Purple', '#INDvBAN', '#ThursdayThoughts'}\n"
     ]
    }
   ],
   "source": [
    "world_trends_set = set(trend['name']\n",
    "                       for trend in world_trends[0]['trends'])\n",
    "\n",
    "us_trends_set = set(trend['name']\n",
    "                       for trend in us_trends[0]['trends'])\n",
    "\n",
    "common_trends = world_trends_set.intersection(us_trends_set)\n",
    "\n",
    "print(common_trends)"
   ]
  },
  {
   "cell_type": "code",
   "execution_count": 7,
   "metadata": {
    "collapsed": false
   },
   "outputs": [
    {
     "name": "stdout",
     "output_type": "stream",
     "text": [
      "Length of statuses 100\n",
      "Length of statuses 200\n",
      "Length of statuses 200\n",
      "{\n",
      " \"created_at\": \"Thu Jun 15 16:24:34 +0000 2017\",\n",
      " \"id\": 875388572089692160,\n",
      " \"id_str\": \"875388572089692160\",\n",
      " \"text\": \"RT @Efawcett7: Rick Pitino has a tattoo of the 2013 NCAA Championship that the NCAA will likely strip from Louisville. https://t.co/eYgVNwL\\u2026\",\n",
      " \"truncated\": false,\n",
      " \"entities\": {\n",
      "  \"hashtags\": [],\n",
      "  \"symbols\": [],\n",
      "  \"user_mentions\": [\n",
      "   {\n",
      "    \"screen_name\": \"Efawcett7\",\n",
      "    \"name\": \"Eric Fawcett\",\n",
      "    \"id\": 386757760,\n",
      "    \"id_str\": \"386757760\",\n",
      "    \"indices\": [\n",
      "     3,\n",
      "     13\n",
      "    ]\n",
      "   }\n",
      "  ],\n",
      "  \"urls\": []\n",
      " },\n",
      " \"metadata\": {\n",
      "  \"iso_language_code\": \"en\",\n",
      "  \"result_type\": \"recent\"\n",
      " },\n",
      " \"source\": \"<a href=\\\"http://twitter.com/download/iphone\\\" rel=\\\"nofollow\\\">Twitter for iPhone</a>\",\n",
      " \"in_reply_to_status_id\": null,\n",
      " \"in_reply_to_status_id_str\": null,\n",
      " \"in_reply_to_user_id\": null,\n",
      " \"in_reply_to_user_id_str\": null,\n",
      " \"in_reply_to_screen_name\": null,\n",
      " \"user\": {\n",
      "  \"id\": 737079979,\n",
      "  \"id_str\": \"737079979\",\n",
      "  \"name\": \"Connor\",\n",
      "  \"screen_name\": \"cmcclainn\",\n",
      "  \"location\": \"\",\n",
      "  \"description\": \"Florida Gators. College Sports Junkie.\",\n",
      "  \"url\": null,\n",
      "  \"entities\": {\n",
      "   \"description\": {\n",
      "    \"urls\": []\n",
      "   }\n",
      "  },\n",
      "  \"protected\": false,\n",
      "  \"followers_count\": 797,\n",
      "  \"friends_count\": 459,\n",
      "  \"listed_count\": 17,\n",
      "  \"created_at\": \"Sat Aug 04 17:11:37 +0000 2012\",\n",
      "  \"favourites_count\": 18370,\n",
      "  \"utc_offset\": -25200,\n",
      "  \"time_zone\": \"Pacific Time (US & Canada)\",\n",
      "  \"geo_enabled\": true,\n",
      "  \"verified\": false,\n",
      "  \"statuses_count\": 64303,\n",
      "  \"lang\": \"en\",\n",
      "  \"contributors_enabled\": false,\n",
      "  \"is_translator\": false,\n",
      "  \"is_translation_enabled\": false,\n",
      "  \"profile_background_color\": \"131516\",\n",
      "  \"profile_background_image_url\": \"http://abs.twimg.com/images/themes/theme14/bg.gif\",\n",
      "  \"profile_background_image_url_https\": \"https://abs.twimg.com/images/themes/theme14/bg.gif\",\n",
      "  \"profile_background_tile\": true,\n",
      "  \"profile_image_url\": \"http://pbs.twimg.com/profile_images/802912064025071616/KJiqwPWr_normal.jpg\",\n",
      "  \"profile_image_url_https\": \"https://pbs.twimg.com/profile_images/802912064025071616/KJiqwPWr_normal.jpg\",\n",
      "  \"profile_banner_url\": \"https://pbs.twimg.com/profile_banners/737079979/1461689354\",\n",
      "  \"profile_link_color\": \"009999\",\n",
      "  \"profile_sidebar_border_color\": \"EEEEEE\",\n",
      "  \"profile_sidebar_fill_color\": \"EFEFEF\",\n",
      "  \"profile_text_color\": \"333333\",\n",
      "  \"profile_use_background_image\": true,\n",
      "  \"has_extended_profile\": false,\n",
      "  \"default_profile\": false,\n",
      "  \"default_profile_image\": false,\n",
      "  \"following\": false,\n",
      "  \"follow_request_sent\": false,\n",
      "  \"notifications\": false,\n",
      "  \"translator_type\": \"none\"\n",
      " },\n",
      " \"geo\": null,\n",
      " \"coordinates\": null,\n",
      " \"place\": null,\n",
      " \"contributors\": null,\n",
      " \"retweeted_status\": {\n",
      "  \"created_at\": \"Thu Jun 15 15:46:42 +0000 2017\",\n",
      "  \"id\": 875379042492456960,\n",
      "  \"id_str\": \"875379042492456960\",\n",
      "  \"text\": \"Rick Pitino has a tattoo of the 2013 NCAA Championship that the NCAA will likely strip from Louisville. https://t.co/eYgVNwLcJs\",\n",
      "  \"truncated\": false,\n",
      "  \"entities\": {\n",
      "   \"hashtags\": [],\n",
      "   \"symbols\": [],\n",
      "   \"user_mentions\": [],\n",
      "   \"urls\": [],\n",
      "   \"media\": [\n",
      "    {\n",
      "     \"id\": 875379035097882624,\n",
      "     \"id_str\": \"875379035097882624\",\n",
      "     \"indices\": [\n",
      "      104,\n",
      "      127\n",
      "     ],\n",
      "     \"media_url\": \"http://pbs.twimg.com/media/DCX4mC7VYAA_oJL.jpg\",\n",
      "     \"media_url_https\": \"https://pbs.twimg.com/media/DCX4mC7VYAA_oJL.jpg\",\n",
      "     \"url\": \"https://t.co/eYgVNwLcJs\",\n",
      "     \"display_url\": \"pic.twitter.com/eYgVNwLcJs\",\n",
      "     \"expanded_url\": \"https://twitter.com/Efawcett7/status/875379042492456960/photo/1\",\n",
      "     \"type\": \"photo\",\n",
      "     \"sizes\": {\n",
      "      \"medium\": {\n",
      "       \"w\": 800,\n",
      "       \"h\": 450,\n",
      "       \"resize\": \"fit\"\n",
      "      },\n",
      "      \"small\": {\n",
      "       \"w\": 680,\n",
      "       \"h\": 383,\n",
      "       \"resize\": \"fit\"\n",
      "      },\n",
      "      \"large\": {\n",
      "       \"w\": 800,\n",
      "       \"h\": 450,\n",
      "       \"resize\": \"fit\"\n",
      "      },\n",
      "      \"thumb\": {\n",
      "       \"w\": 150,\n",
      "       \"h\": 150,\n",
      "       \"resize\": \"crop\"\n",
      "      }\n",
      "     }\n",
      "    }\n",
      "   ]\n",
      "  },\n",
      "  \"extended_entities\": {\n",
      "   \"media\": [\n",
      "    {\n",
      "     \"id\": 875379035097882624,\n",
      "     \"id_str\": \"875379035097882624\",\n",
      "     \"indices\": [\n",
      "      104,\n",
      "      127\n",
      "     ],\n",
      "     \"media_url\": \"http://pbs.twimg.com/media/DCX4mC7VYAA_oJL.jpg\",\n",
      "     \"media_url_https\": \"https://pbs.twimg.com/media/DCX4mC7VYAA_oJL.jpg\",\n",
      "     \"url\": \"https://t.co/eYgVNwLcJs\",\n",
      "     \"display_url\": \"pic.twitter.com/eYgVNwLcJs\",\n",
      "     \"expanded_url\": \"https://twitter.com/Efawcett7/status/875379042492456960/photo/1\",\n",
      "     \"type\": \"photo\",\n",
      "     \"sizes\": {\n",
      "      \"medium\": {\n",
      "       \"w\": 800,\n",
      "       \"h\": 450,\n",
      "       \"resize\": \"fit\"\n",
      "      },\n",
      "      \"small\": {\n",
      "       \"w\": 680,\n",
      "       \"h\": 383,\n",
      "       \"resize\": \"fit\"\n",
      "      },\n",
      "      \"large\": {\n",
      "       \"w\": 800,\n",
      "       \"h\": 450,\n",
      "       \"resize\": \"fit\"\n",
      "      },\n",
      "      \"thumb\": {\n",
      "       \"w\": 150,\n",
      "       \"h\": 150,\n",
      "       \"resize\": \"crop\"\n",
      "      }\n",
      "     }\n",
      "    }\n",
      "   ]\n",
      "  },\n",
      "  \"metadata\": {\n",
      "   \"iso_language_code\": \"en\",\n",
      "   \"result_type\": \"recent\"\n",
      "  },\n",
      "  \"source\": \"<a href=\\\"http://twitter.com/download/iphone\\\" rel=\\\"nofollow\\\">Twitter for iPhone</a>\",\n",
      "  \"in_reply_to_status_id\": null,\n",
      "  \"in_reply_to_status_id_str\": null,\n",
      "  \"in_reply_to_user_id\": null,\n",
      "  \"in_reply_to_user_id_str\": null,\n",
      "  \"in_reply_to_screen_name\": null,\n",
      "  \"user\": {\n",
      "   \"id\": 386757760,\n",
      "   \"id_str\": \"386757760\",\n",
      "   \"name\": \"Eric Fawcett\",\n",
      "   \"screen_name\": \"Efawcett7\",\n",
      "   \"location\": \"Edmonton, Alberta, Canada\",\n",
      "   \"description\": \"Where sports and comedy collide. Trying to honor God with all I do. Tweets have been used by @ESPN @FoxSports @BleacherReport & more. Write for @PRESSBasketball\",\n",
      "   \"url\": \"https://t.co/UBSGLgdFIM\",\n",
      "   \"entities\": {\n",
      "    \"url\": {\n",
      "     \"urls\": [\n",
      "      {\n",
      "       \"url\": \"https://t.co/UBSGLgdFIM\",\n",
      "       \"expanded_url\": \"http://www.pressbasketball.com\",\n",
      "       \"display_url\": \"pressbasketball.com\",\n",
      "       \"indices\": [\n",
      "        0,\n",
      "        23\n",
      "       ]\n",
      "      }\n",
      "     ]\n",
      "    },\n",
      "    \"description\": {\n",
      "     \"urls\": []\n",
      "    }\n",
      "   },\n",
      "   \"protected\": false,\n",
      "   \"followers_count\": 7797,\n",
      "   \"friends_count\": 3482,\n",
      "   \"listed_count\": 147,\n",
      "   \"created_at\": \"Fri Oct 07 21:02:46 +0000 2011\",\n",
      "   \"favourites_count\": 57970,\n",
      "   \"utc_offset\": -25200,\n",
      "   \"time_zone\": \"Arizona\",\n",
      "   \"geo_enabled\": true,\n",
      "   \"verified\": false,\n",
      "   \"statuses_count\": 5706,\n",
      "   \"lang\": \"en\",\n",
      "   \"contributors_enabled\": false,\n",
      "   \"is_translator\": false,\n",
      "   \"is_translation_enabled\": false,\n",
      "   \"profile_background_color\": \"C0DEED\",\n",
      "   \"profile_background_image_url\": \"http://abs.twimg.com/images/themes/theme1/bg.png\",\n",
      "   \"profile_background_image_url_https\": \"https://abs.twimg.com/images/themes/theme1/bg.png\",\n",
      "   \"profile_background_tile\": false,\n",
      "   \"profile_image_url\": \"http://pbs.twimg.com/profile_images/803088864382287872/awyL9V0X_normal.jpg\",\n",
      "   \"profile_image_url_https\": \"https://pbs.twimg.com/profile_images/803088864382287872/awyL9V0X_normal.jpg\",\n",
      "   \"profile_banner_url\": \"https://pbs.twimg.com/profile_banners/386757760/1475805517\",\n",
      "   \"profile_link_color\": \"1DA1F2\",\n",
      "   \"profile_sidebar_border_color\": \"C0DEED\",\n",
      "   \"profile_sidebar_fill_color\": \"DDEEF6\",\n",
      "   \"profile_text_color\": \"333333\",\n",
      "   \"profile_use_background_image\": true,\n",
      "   \"has_extended_profile\": true,\n",
      "   \"default_profile\": true,\n",
      "   \"default_profile_image\": false,\n",
      "   \"following\": false,\n",
      "   \"follow_request_sent\": false,\n",
      "   \"notifications\": false,\n",
      "   \"translator_type\": \"none\"\n",
      "  },\n",
      "  \"geo\": null,\n",
      "  \"coordinates\": null,\n",
      "  \"place\": null,\n",
      "  \"contributors\": null,\n",
      "  \"is_quote_status\": false,\n",
      "  \"retweet_count\": 26,\n",
      "  \"favorite_count\": 25,\n",
      "  \"favorited\": false,\n",
      "  \"retweeted\": false,\n",
      "  \"possibly_sensitive\": false,\n",
      "  \"lang\": \"en\"\n",
      " },\n",
      " \"is_quote_status\": false,\n",
      " \"retweet_count\": 26,\n",
      " \"favorite_count\": 0,\n",
      " \"favorited\": false,\n",
      " \"retweeted\": false,\n",
      " \"lang\": \"en\"\n",
      "}\n"
     ]
    }
   ],
   "source": [
    "query = 'Rick Pitino'\n",
    "count = 100\n",
    "\n",
    "search_results = twitter_api.search.tweets(q=query, count=count)\n",
    "statuses = search_results['statuses']\n",
    "\n",
    "for _ in range(5):\n",
    "    print (\"Length of statuses\", len(statuses))\n",
    "    try:\n",
    "        next_results = search_results['search_metadata']['next_results']\n",
    "    except KeyError as e:\n",
    "        break\n",
    "        \n",
    "    kwargs = dict([ kv.split('=') for kv in next_results[1:].split(\"&\") ])\n",
    "    search_results = twitter_api.search.tweets(**kwargs)\n",
    "    statuses += search_results['statuses']\n",
    "    \n",
    "print (json.dumps(statuses[0], indent=1))"
   ]
  },
  {
   "cell_type": "code",
   "execution_count": 8,
   "metadata": {
    "collapsed": false
   },
   "outputs": [],
   "source": [
    "# Einen einzelnen Tweet extrahieren\n",
    "t = statuses[0]"
   ]
  },
  {
   "cell_type": "code",
   "execution_count": 9,
   "metadata": {
    "collapsed": false
   },
   "outputs": [
    {
     "data": {
      "text/plain": [
       "dict_keys(['created_at', 'id', 'id_str', 'text', 'truncated', 'entities', 'metadata', 'source', 'in_reply_to_status_id', 'in_reply_to_status_id_str', 'in_reply_to_user_id', 'in_reply_to_user_id_str', 'in_reply_to_screen_name', 'user', 'geo', 'coordinates', 'place', 'contributors', 'retweeted_status', 'is_quote_status', 'retweet_count', 'favorite_count', 'favorited', 'retweeted', 'lang'])"
      ]
     },
     "execution_count": 9,
     "metadata": {},
     "output_type": "execute_result"
    }
   ],
   "source": [
    "# Gibt die Schlüssel aus, d.h. die höchsten Felder\n",
    "t.keys()"
   ]
  },
  {
   "cell_type": "code",
   "execution_count": 10,
   "metadata": {
    "collapsed": false
   },
   "outputs": [
    {
     "data": {
      "text/plain": [
       "875388572089692160"
      ]
     },
     "execution_count": 10,
     "metadata": {},
     "output_type": "execute_result"
    }
   ],
   "source": [
    "# Gibt die ID aus\n",
    "t['id']"
   ]
  },
  {
   "cell_type": "code",
   "execution_count": 11,
   "metadata": {
    "collapsed": false
   },
   "outputs": [
    {
     "data": {
      "text/plain": [
       "'RT @Efawcett7: Rick Pitino has a tattoo of the 2013 NCAA Championship that the NCAA will likely strip from Louisville. https://t.co/eYgVNwL…'"
      ]
     },
     "execution_count": 11,
     "metadata": {},
     "output_type": "execute_result"
    }
   ],
   "source": [
    "# Gibt den Textinhalt aus\n",
    "t['text']"
   ]
  },
  {
   "cell_type": "code",
   "execution_count": 12,
   "metadata": {
    "collapsed": false
   },
   "outputs": [
    {
     "data": {
      "text/plain": [
       "{'hashtags': [],\n",
       " 'symbols': [],\n",
       " 'urls': [],\n",
       " 'user_mentions': [{'id': 386757760,\n",
       "   'id_str': '386757760',\n",
       "   'indices': [3, 13],\n",
       "   'name': 'Eric Fawcett',\n",
       "   'screen_name': 'Efawcett7'}]}"
      ]
     },
     "execution_count": 12,
     "metadata": {},
     "output_type": "execute_result"
    }
   ],
   "source": [
    "# Gibt die Entities aus\n",
    "t['entities']"
   ]
  },
  {
   "cell_type": "code",
   "execution_count": 13,
   "metadata": {
    "collapsed": false
   },
   "outputs": [
    {
     "data": {
      "text/plain": [
       "0"
      ]
     },
     "execution_count": 13,
     "metadata": {},
     "output_type": "execute_result"
    }
   ],
   "source": [
    "# Gibt die Anzahl der Likes aus\n",
    "t['favorite_count']"
   ]
  },
  {
   "cell_type": "code",
   "execution_count": 14,
   "metadata": {
    "collapsed": false
   },
   "outputs": [
    {
     "data": {
      "text/plain": [
       "26"
      ]
     },
     "execution_count": 14,
     "metadata": {},
     "output_type": "execute_result"
    }
   ],
   "source": [
    "# Gibt die Anzahl der Retweets aus\n",
    "t['retweet_count']"
   ]
  },
  {
   "cell_type": "code",
   "execution_count": 15,
   "metadata": {
    "collapsed": false,
    "scrolled": true
   },
   "outputs": [
    {
     "data": {
      "text/plain": [
       "{'contributors': None,\n",
       " 'coordinates': None,\n",
       " 'created_at': 'Thu Jun 15 15:46:42 +0000 2017',\n",
       " 'entities': {'hashtags': [],\n",
       "  'media': [{'display_url': 'pic.twitter.com/eYgVNwLcJs',\n",
       "    'expanded_url': 'https://twitter.com/Efawcett7/status/875379042492456960/photo/1',\n",
       "    'id': 875379035097882624,\n",
       "    'id_str': '875379035097882624',\n",
       "    'indices': [104, 127],\n",
       "    'media_url': 'http://pbs.twimg.com/media/DCX4mC7VYAA_oJL.jpg',\n",
       "    'media_url_https': 'https://pbs.twimg.com/media/DCX4mC7VYAA_oJL.jpg',\n",
       "    'sizes': {'large': {'h': 450, 'resize': 'fit', 'w': 800},\n",
       "     'medium': {'h': 450, 'resize': 'fit', 'w': 800},\n",
       "     'small': {'h': 383, 'resize': 'fit', 'w': 680},\n",
       "     'thumb': {'h': 150, 'resize': 'crop', 'w': 150}},\n",
       "    'type': 'photo',\n",
       "    'url': 'https://t.co/eYgVNwLcJs'}],\n",
       "  'symbols': [],\n",
       "  'urls': [],\n",
       "  'user_mentions': []},\n",
       " 'extended_entities': {'media': [{'display_url': 'pic.twitter.com/eYgVNwLcJs',\n",
       "    'expanded_url': 'https://twitter.com/Efawcett7/status/875379042492456960/photo/1',\n",
       "    'id': 875379035097882624,\n",
       "    'id_str': '875379035097882624',\n",
       "    'indices': [104, 127],\n",
       "    'media_url': 'http://pbs.twimg.com/media/DCX4mC7VYAA_oJL.jpg',\n",
       "    'media_url_https': 'https://pbs.twimg.com/media/DCX4mC7VYAA_oJL.jpg',\n",
       "    'sizes': {'large': {'h': 450, 'resize': 'fit', 'w': 800},\n",
       "     'medium': {'h': 450, 'resize': 'fit', 'w': 800},\n",
       "     'small': {'h': 383, 'resize': 'fit', 'w': 680},\n",
       "     'thumb': {'h': 150, 'resize': 'crop', 'w': 150}},\n",
       "    'type': 'photo',\n",
       "    'url': 'https://t.co/eYgVNwLcJs'}]},\n",
       " 'favorite_count': 25,\n",
       " 'favorited': False,\n",
       " 'geo': None,\n",
       " 'id': 875379042492456960,\n",
       " 'id_str': '875379042492456960',\n",
       " 'in_reply_to_screen_name': None,\n",
       " 'in_reply_to_status_id': None,\n",
       " 'in_reply_to_status_id_str': None,\n",
       " 'in_reply_to_user_id': None,\n",
       " 'in_reply_to_user_id_str': None,\n",
       " 'is_quote_status': False,\n",
       " 'lang': 'en',\n",
       " 'metadata': {'iso_language_code': 'en', 'result_type': 'recent'},\n",
       " 'place': None,\n",
       " 'possibly_sensitive': False,\n",
       " 'retweet_count': 26,\n",
       " 'retweeted': False,\n",
       " 'source': '<a href=\"http://twitter.com/download/iphone\" rel=\"nofollow\">Twitter for iPhone</a>',\n",
       " 'text': 'Rick Pitino has a tattoo of the 2013 NCAA Championship that the NCAA will likely strip from Louisville. https://t.co/eYgVNwLcJs',\n",
       " 'truncated': False,\n",
       " 'user': {'contributors_enabled': False,\n",
       "  'created_at': 'Fri Oct 07 21:02:46 +0000 2011',\n",
       "  'default_profile': True,\n",
       "  'default_profile_image': False,\n",
       "  'description': 'Where sports and comedy collide. Trying to honor God with all I do. Tweets have been used by @ESPN @FoxSports @BleacherReport & more. Write for @PRESSBasketball',\n",
       "  'entities': {'description': {'urls': []},\n",
       "   'url': {'urls': [{'display_url': 'pressbasketball.com',\n",
       "      'expanded_url': 'http://www.pressbasketball.com',\n",
       "      'indices': [0, 23],\n",
       "      'url': 'https://t.co/UBSGLgdFIM'}]}},\n",
       "  'favourites_count': 57970,\n",
       "  'follow_request_sent': False,\n",
       "  'followers_count': 7797,\n",
       "  'following': False,\n",
       "  'friends_count': 3482,\n",
       "  'geo_enabled': True,\n",
       "  'has_extended_profile': True,\n",
       "  'id': 386757760,\n",
       "  'id_str': '386757760',\n",
       "  'is_translation_enabled': False,\n",
       "  'is_translator': False,\n",
       "  'lang': 'en',\n",
       "  'listed_count': 147,\n",
       "  'location': 'Edmonton, Alberta, Canada',\n",
       "  'name': 'Eric Fawcett',\n",
       "  'notifications': False,\n",
       "  'profile_background_color': 'C0DEED',\n",
       "  'profile_background_image_url': 'http://abs.twimg.com/images/themes/theme1/bg.png',\n",
       "  'profile_background_image_url_https': 'https://abs.twimg.com/images/themes/theme1/bg.png',\n",
       "  'profile_background_tile': False,\n",
       "  'profile_banner_url': 'https://pbs.twimg.com/profile_banners/386757760/1475805517',\n",
       "  'profile_image_url': 'http://pbs.twimg.com/profile_images/803088864382287872/awyL9V0X_normal.jpg',\n",
       "  'profile_image_url_https': 'https://pbs.twimg.com/profile_images/803088864382287872/awyL9V0X_normal.jpg',\n",
       "  'profile_link_color': '1DA1F2',\n",
       "  'profile_sidebar_border_color': 'C0DEED',\n",
       "  'profile_sidebar_fill_color': 'DDEEF6',\n",
       "  'profile_text_color': '333333',\n",
       "  'profile_use_background_image': True,\n",
       "  'protected': False,\n",
       "  'screen_name': 'Efawcett7',\n",
       "  'statuses_count': 5706,\n",
       "  'time_zone': 'Arizona',\n",
       "  'translator_type': 'none',\n",
       "  'url': 'https://t.co/UBSGLgdFIM',\n",
       "  'utc_offset': -25200,\n",
       "  'verified': False}}"
      ]
     },
     "execution_count": 15,
     "metadata": {},
     "output_type": "execute_result"
    }
   ],
   "source": [
    "# Ist dieses Feld vorhanden, ist das ein Retweet\n",
    "# Es beinhaltet detaillierte Informationen über das Original Tweet und über dessen Autor\n",
    "t['retweeted_status']"
   ]
  },
  {
   "cell_type": "code",
   "execution_count": 16,
   "metadata": {
    "collapsed": false
   },
   "outputs": [
    {
     "data": {
      "text/plain": [
       "False"
      ]
     },
     "execution_count": 16,
     "metadata": {},
     "output_type": "execute_result"
    }
   ],
   "source": [
    "# Gibt an, ob dieser Tweet von dir retweetet wurde\n",
    "t['retweeted']"
   ]
  },
  {
   "cell_type": "markdown",
   "metadata": {},
   "source": [
    "### Analysieren der Tweet Entities"
   ]
  },
  {
   "cell_type": "code",
   "execution_count": 17,
   "metadata": {
    "collapsed": false,
    "scrolled": true
   },
   "outputs": [
    {
     "name": "stdout",
     "output_type": "stream",
     "text": [
      "[\n",
      " \"RT @Efawcett7: Rick Pitino has a tattoo of the 2013 NCAA Championship that the NCAA will likely strip from Louisville. https://t.co/eYgVNwL\\u2026\",\n",
      " \"RT @BleacherReport: Breaking: Louisville gets 4 years probation, Rick Pitino suspended first 5 ACC games this season for prostitute scandal\\u2026\",\n",
      " \"RT @BleacherReport: Breaking: Louisville gets 4 years probation, Rick Pitino suspended first 5 ACC games this season for prostitute scandal\\u2026\",\n",
      " \"RT @slmandel: NCAA Louisville sanctions: Rick Pitino suspended for first five ACC games next season. https://t.co/e2SrDD9yfm\",\n",
      " \"Louisville's Rick Pitino suspended after escort investigation https://t.co/GnwFeHeRxa https://t.co/iIRGVYv5G0\"\n",
      "]\n",
      "[\n",
      " \"Efawcett7\",\n",
      " \"BleacherReport\",\n",
      " \"BleacherReport\",\n",
      " \"slmandel\",\n",
      " \"SportsCenter\"\n",
      "]\n",
      "[\n",
      " \"Pitino\",\n",
      " \"Headlines\",\n",
      " \"news\",\n",
      " \"news\",\n",
      " \"Probably\"\n",
      "]\n",
      "[\n",
      " \"RT\",\n",
      " \"@Efawcett7:\",\n",
      " \"Rick\",\n",
      " \"Pitino\",\n",
      " \"has\"\n",
      "]\n"
     ]
    }
   ],
   "source": [
    "status_texts = [ status['text'] \n",
    "                 for status in statuses ]\n",
    "\n",
    "screen_names = [ user_mention['screen_name'] \n",
    "                 for status in statuses\n",
    "                     for user_mention in status['entities']['user_mentions'] ]\n",
    "\n",
    "hashtags = [ hashtag['text'] \n",
    "             for status in statuses\n",
    "                 for hashtag in status['entities']['hashtags'] ]\n",
    "\n",
    "# Erstelle eine Kollektion mit allen Wörtern, die in den Tweets vorkommen\n",
    "words = [ w \n",
    "          for t in status_texts \n",
    "              for w in t.split() ]\n",
    "\n",
    "# Die ersten 5 Ausgaben für alle\n",
    "print (json.dumps(status_texts[0:5], indent=1))\n",
    "print (json.dumps(screen_names[0:5], indent=1)) \n",
    "print (json.dumps(hashtags[0:5], indent=1))\n",
    "print (json.dumps(words[0:5], indent=1))"
   ]
  },
  {
   "cell_type": "code",
   "execution_count": 18,
   "metadata": {
    "collapsed": false
   },
   "outputs": [
    {
     "name": "stdout",
     "output_type": "stream",
     "text": [
      "[('Rick', 191), ('Pitino', 190), ('for', 165), ('a', 160), ('RT', 158), ('and', 126), ('got', 96), ('Louisville', 83), ('suspended', 78), ('games', 77)]\n",
      "[('BarrettSallee', 47), ('BleacherReport', 26), ('SportsCenter', 17), ('NotJerryTipton', 15), ('NCAA', 7), ('uofl', 7), ('840WHAS', 7), ('WClark840WHAS', 6), ('790KRD', 6), ('washingtonpost', 4)]\n",
      "[('news', 2), ('Pitino', 1), ('Headlines', 1), ('Probably', 1), ('WarriorsParade', 1), ('trndnl', 1), ('NCAA', 1), ('L1C4', 1), ('TwitterMoments', 1), ('v', 1)]\n"
     ]
    }
   ],
   "source": [
    "from collections import Counter\n",
    "\n",
    "for item in [words, screen_names, hashtags]:\n",
    "    c = Counter(item)\n",
    "    print (c.most_common()[:10])"
   ]
  },
  {
   "cell_type": "markdown",
   "metadata": {},
   "source": [
    "Falls Pretty Table noch nicht installiert wurde können wir das tun in dem wir <b>pip install prettytable</b> in der Konsole eingeben."
   ]
  },
  {
   "cell_type": "code",
   "execution_count": 19,
   "metadata": {
    "collapsed": false,
    "scrolled": true
   },
   "outputs": [
    {
     "name": "stdout",
     "output_type": "stream",
     "text": [
      "+------------+-------+\n",
      "| Word       | Count |\n",
      "+------------+-------+\n",
      "| Rick       |   191 |\n",
      "| Pitino     |   190 |\n",
      "| for        |   165 |\n",
      "| a          |   160 |\n",
      "| RT         |   158 |\n",
      "| and        |   126 |\n",
      "| got        |    96 |\n",
      "| Louisville |    83 |\n",
      "| suspended  |    78 |\n",
      "| games      |    77 |\n",
      "+------------+-------+\n",
      "+----------------+-------+\n",
      "| Screen Name    | Count |\n",
      "+----------------+-------+\n",
      "| BarrettSallee  |    47 |\n",
      "| BleacherReport |    26 |\n",
      "| SportsCenter   |    17 |\n",
      "| NotJerryTipton |    15 |\n",
      "| NCAA           |     7 |\n",
      "| uofl           |     7 |\n",
      "| 840WHAS        |     7 |\n",
      "| WClark840WHAS  |     6 |\n",
      "| 790KRD         |     6 |\n",
      "| washingtonpost |     4 |\n",
      "+----------------+-------+\n",
      "+----------------+-------+\n",
      "| Hashtag        | Count |\n",
      "+----------------+-------+\n",
      "| news           |     2 |\n",
      "| Pitino         |     1 |\n",
      "| Headlines      |     1 |\n",
      "| Probably       |     1 |\n",
      "| WarriorsParade |     1 |\n",
      "| trndnl         |     1 |\n",
      "| NCAA           |     1 |\n",
      "| L1C4           |     1 |\n",
      "| TwitterMoments |     1 |\n",
      "| v              |     1 |\n",
      "+----------------+-------+\n"
     ]
    }
   ],
   "source": [
    "from prettytable import PrettyTable\n",
    "\n",
    "for label, data in (('Word', words), \n",
    "                    ('Screen Name', screen_names), \n",
    "                    ('Hashtag', hashtags)):\n",
    "    pt = PrettyTable(field_names=[label, 'Count']) \n",
    "    c = Counter(data)\n",
    "    [ pt.add_row(kv) for kv in c.most_common()[:10] ]\n",
    "    pt.align[label], pt.align['Count'] = 'l', 'r'\n",
    "    print (pt)"
   ]
  },
  {
   "cell_type": "code",
   "execution_count": 20,
   "metadata": {
    "collapsed": false
   },
   "outputs": [
    {
     "name": "stdout",
     "output_type": "stream",
     "text": [
      "0.14451015685266136\n",
      "0.23076923076923078\n",
      "0.9090909090909091\n",
      "19.445\n"
     ]
    }
   ],
   "source": [
    "def lexical_diversity(tokens):\n",
    "    return 1.0*len(set(tokens))/len(tokens) \n",
    "\n",
    "def average_words(statuses):\n",
    "    total_words = sum([ len(s.split()) for s in statuses ]) \n",
    "    return 1.0*total_words/len(statuses)\n",
    "\n",
    "print (lexical_diversity(words))\n",
    "print (lexical_diversity(screen_names))\n",
    "print (lexical_diversity(hashtags))\n",
    "print (average_words(status_texts))"
   ]
  },
  {
   "cell_type": "code",
   "execution_count": 21,
   "metadata": {
    "collapsed": false
   },
   "outputs": [
    {
     "name": "stdout",
     "output_type": "stream",
     "text": [
      "+-------+----------------+----------------------------------------------------+\n",
      "| Count | Screen Name    | Text                                               |\n",
      "+-------+----------------+----------------------------------------------------+\n",
      "| 1177  | BleacherReport | RT @BleacherReport: Breaking: Louisville gets 4    |\n",
      "|       |                | years probation, Rick Pitino suspended first 5 ACC |\n",
      "|       |                | games this season for prostitute scandal…          |\n",
      "| 1177  | BleacherReport | RT @BleacherReport: Breaking: Louisville gets 4    |\n",
      "|       |                | years probation, Rick Pitino suspended first 5 ACC |\n",
      "|       |                | games this season for prostitute scandal…          |\n",
      "| 1177  | BleacherReport | RT @BleacherReport: Breaking: Louisville gets 4    |\n",
      "|       |                | years probation, Rick Pitino suspended first 5 ACC |\n",
      "|       |                | games this season for prostitute scandal…          |\n",
      "| 1177  | BleacherReport | RT @BleacherReport: Breaking: Louisville gets 4    |\n",
      "|       |                | years probation, Rick Pitino suspended first 5 ACC |\n",
      "|       |                | games this season for prostitute scandal…          |\n",
      "| 1177  | BleacherReport | RT @BleacherReport: Breaking: Louisville gets 4    |\n",
      "|       |                | years probation, Rick Pitino suspended first 5 ACC |\n",
      "|       |                | games this season for prostitute scandal…          |\n",
      "+-------+----------------+----------------------------------------------------+\n"
     ]
    }
   ],
   "source": [
    "retweets = [\n",
    "    \n",
    "            (status['retweet_count'], \n",
    "             status['retweeted_status']['user']['screen_name'],\n",
    "             status['text']) \n",
    "            \n",
    "            for status in statuses \n",
    "            \n",
    "                if 'retweeted_status' in status\n",
    "           ]\n",
    "\n",
    "pt = PrettyTable(field_names=['Count', 'Screen Name', 'Text'])\n",
    "[ pt.add_row(row) for row in sorted(retweets, reverse=True)[:5] ]\n",
    "pt.max_width['Text'] = 50\n",
    "pt.align= 'l'\n",
    "print (pt)"
   ]
  },
  {
   "cell_type": "code",
   "execution_count": 23,
   "metadata": {
    "collapsed": false
   },
   "outputs": [
    {
     "name": "stdout",
     "output_type": "stream",
     "text": [
      "['t_Allen757', 'sammy_petitte', '_mitchmatthews', 'CordellCockett3', 'cmcclainn', 'jonshrews', 'craig_viti', 'ekass14', 'aircasey13', 'IrishDude10', 'Qwik11Hoops', 'clubsndwch_king', 'SStrandSports', 'tannerhamilton3', 'M_Bure', 'dcosce', 'BlacktopBasics', 'Josh_Agee31']\n"
     ]
    }
   ],
   "source": [
    "_retweets = twitter_api.statuses.retweets(id=875379042492456960)\n",
    "print ([r['user']['screen_name'] for r in _retweets])"
   ]
  },
  {
   "cell_type": "code",
   "execution_count": 24,
   "metadata": {
    "collapsed": false
   },
   "outputs": [],
   "source": [
    "import matplotlib\n",
    "import numpy as np\n",
    "import matplotlib.pyplot as plt\n",
    "%matplotlib inline"
   ]
  },
  {
   "cell_type": "code",
   "execution_count": 25,
   "metadata": {
    "collapsed": false
   },
   "outputs": [
    {
     "data": {
      "text/plain": [
       "<matplotlib.text.Text at 0x1f7d2c5b0f0>"
      ]
     },
     "execution_count": 25,
     "metadata": {},
     "output_type": "execute_result"
    },
    {
     "data": {
      "image/png": "[encoded data removed]",
      "text/plain": [
       "<matplotlib.figure.Figure at 0x1f7d2c445f8>"
      ]
     },
     "metadata": {},
     "output_type": "display_data"
    }
   ],
   "source": [
    "word_counts = sorted(Counter(words).values(), reverse=True)\n",
    "\n",
    "plt.loglog(word_counts)\n",
    "plt.ylabel(\"Freq\")\n",
    "plt.xlabel(\"Word Rank\")"
   ]
  },
  {
   "cell_type": "code",
   "execution_count": 26,
   "metadata": {
    "collapsed": false
   },
   "outputs": [
    {
     "data": {
      "image/png": "[encoded data removed]",
      "text/plain": [
       "<matplotlib.figure.Figure at 0x1f7d0c43198>"
      ]
     },
     "metadata": {},
     "output_type": "display_data"
    },
    {
     "data": {
      "image/png": "[encoded data removed]",
      "text/plain": [
       "<matplotlib.figure.Figure at 0x1f7d3529978>"
      ]
     },
     "metadata": {},
     "output_type": "display_data"
    },
    {
     "data": {
      "image/png": "[encoded data removed]",
      "text/plain": [
       "<matplotlib.figure.Figure at 0x1f7d35aa6a0>"
      ]
     },
     "metadata": {},
     "output_type": "display_data"
    },
    {
     "data": {
      "text/plain": [
       "<matplotlib.figure.Figure at 0x1f7d363acf8>"
      ]
     },
     "metadata": {},
     "output_type": "display_data"
    }
   ],
   "source": [
    "for label, data in (('Words', words), \n",
    "                    ('Screen Names', screen_names), \n",
    "                    ('Hashtags', hashtags)):\n",
    "\n",
    "    c = Counter(data)\n",
    "    plt.hist(list(c.values()))\n",
    "    plt.title(label)\n",
    "    plt.ylabel(\"Number of items in bin\")\n",
    "    plt.xlabel(\"Bins (number of times an item appeared)\")\n",
    "    plt.figure()"
   ]
  },
  {
   "cell_type": "code",
   "execution_count": 27,
   "metadata": {
    "collapsed": false
   },
   "outputs": [
    {
     "name": "stdout",
     "output_type": "stream",
     "text": [
      "[26, 1177, 1177, 15, 945, 26, 12, 1177, 99, 19, 945, 1177, 1, 1177, 99, 945, 3, 99, 88, 54, 945, 99, 26, 945, 99, 99, 99, 74, 99, 1177, 36, 99, 99, 99, 99, 99, 99, 945, 36, 1177, 19, 31, 1177, 1177, 99, 36, 36, 1177, 27, 945, 1177, 33, 99, 99, 99, 99, 1177, 36, 99, 4, 1, 3, 6, 99, 83, 6, 99, 4, 99, 1177, 1177, 36, 75, 99, 99, 99, 19, 99, 99, 99, 6, 1177, 196, 6, 945, 1177, 99, 99, 31, 99, 1177, 20, 19, 5, 6, 99, 1177, 1177, 36, 99, 7, 6, 12, 75, 99, 945, 36, 1177, 20, 99, 54, 54, 99, 99, 1177, 33, 77, 36, 2, 99, 1177, 99, 88, 945, 945, 1177, 31, 945, 69, 77, 99, 945, 36, 79, 1, 1177, 33, 1177, 51, 945, 99, 36, 78, 945, 945, 99, 7, 1177, 99, 99, 78, 3, 36, 99, 99, 36, 945, 196]\n"
     ]
    },
    {
     "data": {
      "image/png": "[encoded data removed]",
      "text/plain": [
       "<matplotlib.figure.Figure at 0x1f7d36f3780>"
      ]
     },
     "metadata": {},
     "output_type": "display_data"
    }
   ],
   "source": [
    "counts = [count for count, _, _ in retweets]\n",
    "\n",
    "plt.hist(counts)\n",
    "plt.title(\"Retweets\")\n",
    "plt.xlabel('Bins (number of times retweeted)')\n",
    "plt.ylabel('Number of tweets in bin')\n",
    "\n",
    "print (counts)"
   ]
  },
  {
   "cell_type": "markdown",
   "metadata": {},
   "source": [
    "<b>Quellen: </b>\n",
    "<br>\n",
    "* Russell, M. A. (2013). Mining the Social Web: Data Mining Facebook, Twitter, LinkedIn, Google+, GitHub, and More. \"   O'Reilly Media, Inc.\".: http://chimera.labs.oreilly.com/books/1234000001583/ch01.html#social-websites-rage<br>\n",
    "* Twitter Developer Dokumentation: https://dev.twitter.com/docs<br>\n",
    "* Wikipedia: https://www.wikipedia.de/<br>\n",
    "* Zafarani, R., Abbasi, M. A., & Liu, H. (2014). Social media mining: an introduction. Cambridge University Press. :http://dmml.asu.edu/smm/SMM.pdf<br>"
   ]
  }
 ],
 "metadata": {
  "kernelspec": {
   "display_name": "Python 3",
   "language": "python",
   "name": "python3"
  },
  "language_info": {
   "codemirror_mode": {
    "name": "ipython",
    "version": 3
   },
   "file_extension": ".py",
   "mimetype": "text/x-python",
   "name": "python",
   "nbconvert_exporter": "python",
   "pygments_lexer": "ipython3",
   "version": "3.6.0"
  }
 },
 "nbformat": 4,
 "nbformat_minor": 2
}
