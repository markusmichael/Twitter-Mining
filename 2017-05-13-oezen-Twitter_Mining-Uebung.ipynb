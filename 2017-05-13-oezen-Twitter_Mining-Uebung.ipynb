{
 "cells": [
  {
   "cell_type": "markdown",
   "metadata": {},
   "source": [
    "# Übungen zur Twitter Mining"
   ]
  },
  {
   "cell_type": "markdown",
   "metadata": {},
   "source": [
    "### Aufgabe 1\n",
    "\n",
    "Finde heraus welche die wichtigsten globalen Themen sind und welche die wichtigsten Themen in Deutschland sind. Gibt es vielleicht Gemeinsamkeiten?\n",
    "\n",
    "<b>Tipp</b>: Die WOEID für Deutschland ist <code> 23424829 </code>"
   ]
  },
  {
   "cell_type": "markdown",
   "metadata": {},
   "source": [
    "### Aufgabe 2\n",
    "\n",
    "Suche dir ein Tweet nach eigenem Wunsch aus und finde heraus wer der Originalverfasser ist, falls das Tweet ein Retweet ist. Finde heraus welche User das Tweet (original) retweeted haben. "
   ]
  }
 ],
 "metadata": {
  "kernelspec": {
   "display_name": "Python 3",
   "language": "python",
   "name": "python3"
  },
  "language_info": {
   "codemirror_mode": {
    "name": "ipython",
    "version": 3
   },
   "file_extension": ".py",
   "mimetype": "text/x-python",
   "name": "python",
   "nbconvert_exporter": "python",
   "pygments_lexer": "ipython3",
   "version": "3.6.0"
  }
 },
 "nbformat": 4,
 "nbformat_minor": 2
}
